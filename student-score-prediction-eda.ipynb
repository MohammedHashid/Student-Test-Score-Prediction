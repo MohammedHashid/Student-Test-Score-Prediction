{
 "cells": [
  {
   "cell_type": "code",
   "execution_count": 10,
   "id": "00c12c94",
   "metadata": {
    "execution": {
     "iopub.execute_input": "2021-11-18T02:44:31.157783Z",
     "iopub.status.busy": "2021-11-18T02:44:31.157065Z",
     "iopub.status.idle": "2021-11-18T02:44:32.508549Z",
     "shell.execute_reply": "2021-11-18T02:44:32.509067Z",
     "shell.execute_reply.started": "2021-11-18T02:27:36.344752Z"
    },
    "papermill": {
     "duration": 1.41225,
     "end_time": "2021-11-18T02:44:32.509264",
     "exception": false,
     "start_time": "2021-11-18T02:44:31.097014",
     "status": "completed"
    },
    "tags": []
   },
   "outputs": [],
   "source": [
    "import numpy as np\n",
    "import pandas as pd\n",
    "from matplotlib import pyplot as plt\n",
    "import seaborn as sns\n",
    "from scipy import stats\n",
    "from sklearn.model_selection import train_test_split\n",
    "from sklearn.linear_model import LogisticRegression, LinearRegression\n",
    "from sklearn.ensemble import RandomForestRegressor, ExtraTreesRegressor, GradientBoostingRegressor, AdaBoostRegressor\n",
    "from sklearn.neural_network import MLPRegressor\n",
    "from sklearn.tree import DecisionTreeRegressor\n",
    "from sklearn.model_selection import GridSearchCV\n",
    "from sklearn.svm import SVR\n",
    "from sklearn import metrics\n",
    "import pickle"
   ]
  },
  {
   "cell_type": "code",
   "execution_count": 11,
   "id": "5a7925ab",
   "metadata": {},
   "outputs": [
    {
     "data": {
      "text/html": [
       "<div>\n",
       "<style scoped>\n",
       "    .dataframe tbody tr th:only-of-type {\n",
       "        vertical-align: middle;\n",
       "    }\n",
       "\n",
       "    .dataframe tbody tr th {\n",
       "        vertical-align: top;\n",
       "    }\n",
       "\n",
       "    .dataframe thead th {\n",
       "        text-align: right;\n",
       "    }\n",
       "</style>\n",
       "<table border=\"1\" class=\"dataframe\">\n",
       "  <thead>\n",
       "    <tr style=\"text-align: right;\">\n",
       "      <th></th>\n",
       "      <th>school</th>\n",
       "      <th>school_setting</th>\n",
       "      <th>school_type</th>\n",
       "      <th>classroom</th>\n",
       "      <th>teaching_method</th>\n",
       "      <th>n_student</th>\n",
       "      <th>student_id</th>\n",
       "      <th>gender</th>\n",
       "      <th>lunch</th>\n",
       "      <th>pretest</th>\n",
       "      <th>posttest</th>\n",
       "    </tr>\n",
       "  </thead>\n",
       "  <tbody>\n",
       "    <tr>\n",
       "      <th>0</th>\n",
       "      <td>ANKYI</td>\n",
       "      <td>Urban</td>\n",
       "      <td>Non-public</td>\n",
       "      <td>6OL</td>\n",
       "      <td>Standard</td>\n",
       "      <td>20.0</td>\n",
       "      <td>2FHT3</td>\n",
       "      <td>Female</td>\n",
       "      <td>Does not qualify</td>\n",
       "      <td>62.0</td>\n",
       "      <td>72.0</td>\n",
       "    </tr>\n",
       "    <tr>\n",
       "      <th>1</th>\n",
       "      <td>ANKYI</td>\n",
       "      <td>Urban</td>\n",
       "      <td>Non-public</td>\n",
       "      <td>6OL</td>\n",
       "      <td>Standard</td>\n",
       "      <td>20.0</td>\n",
       "      <td>3JIVH</td>\n",
       "      <td>Female</td>\n",
       "      <td>Does not qualify</td>\n",
       "      <td>66.0</td>\n",
       "      <td>79.0</td>\n",
       "    </tr>\n",
       "    <tr>\n",
       "      <th>2</th>\n",
       "      <td>ANKYI</td>\n",
       "      <td>Urban</td>\n",
       "      <td>Non-public</td>\n",
       "      <td>6OL</td>\n",
       "      <td>Standard</td>\n",
       "      <td>20.0</td>\n",
       "      <td>3XOWE</td>\n",
       "      <td>Male</td>\n",
       "      <td>Does not qualify</td>\n",
       "      <td>64.0</td>\n",
       "      <td>76.0</td>\n",
       "    </tr>\n",
       "    <tr>\n",
       "      <th>3</th>\n",
       "      <td>ANKYI</td>\n",
       "      <td>Urban</td>\n",
       "      <td>Non-public</td>\n",
       "      <td>6OL</td>\n",
       "      <td>Standard</td>\n",
       "      <td>20.0</td>\n",
       "      <td>556O0</td>\n",
       "      <td>Female</td>\n",
       "      <td>Does not qualify</td>\n",
       "      <td>61.0</td>\n",
       "      <td>77.0</td>\n",
       "    </tr>\n",
       "    <tr>\n",
       "      <th>4</th>\n",
       "      <td>ANKYI</td>\n",
       "      <td>Urban</td>\n",
       "      <td>Non-public</td>\n",
       "      <td>6OL</td>\n",
       "      <td>Standard</td>\n",
       "      <td>20.0</td>\n",
       "      <td>74LOE</td>\n",
       "      <td>Male</td>\n",
       "      <td>Does not qualify</td>\n",
       "      <td>64.0</td>\n",
       "      <td>76.0</td>\n",
       "    </tr>\n",
       "    <tr>\n",
       "      <th>...</th>\n",
       "      <td>...</td>\n",
       "      <td>...</td>\n",
       "      <td>...</td>\n",
       "      <td>...</td>\n",
       "      <td>...</td>\n",
       "      <td>...</td>\n",
       "      <td>...</td>\n",
       "      <td>...</td>\n",
       "      <td>...</td>\n",
       "      <td>...</td>\n",
       "      <td>...</td>\n",
       "    </tr>\n",
       "    <tr>\n",
       "      <th>2128</th>\n",
       "      <td>ZOWMK</td>\n",
       "      <td>Urban</td>\n",
       "      <td>Public</td>\n",
       "      <td>ZBH</td>\n",
       "      <td>Standard</td>\n",
       "      <td>30.0</td>\n",
       "      <td>T8LSK</td>\n",
       "      <td>Female</td>\n",
       "      <td>Does not qualify</td>\n",
       "      <td>39.0</td>\n",
       "      <td>55.0</td>\n",
       "    </tr>\n",
       "    <tr>\n",
       "      <th>2129</th>\n",
       "      <td>ZOWMK</td>\n",
       "      <td>Urban</td>\n",
       "      <td>Public</td>\n",
       "      <td>ZBH</td>\n",
       "      <td>Standard</td>\n",
       "      <td>30.0</td>\n",
       "      <td>VNP26</td>\n",
       "      <td>Female</td>\n",
       "      <td>Qualifies for reduced/free lunch</td>\n",
       "      <td>38.0</td>\n",
       "      <td>46.0</td>\n",
       "    </tr>\n",
       "    <tr>\n",
       "      <th>2130</th>\n",
       "      <td>ZOWMK</td>\n",
       "      <td>Urban</td>\n",
       "      <td>Public</td>\n",
       "      <td>ZBH</td>\n",
       "      <td>Standard</td>\n",
       "      <td>30.0</td>\n",
       "      <td>YDR1Z</td>\n",
       "      <td>Female</td>\n",
       "      <td>Qualifies for reduced/free lunch</td>\n",
       "      <td>45.0</td>\n",
       "      <td>51.0</td>\n",
       "    </tr>\n",
       "    <tr>\n",
       "      <th>2131</th>\n",
       "      <td>ZOWMK</td>\n",
       "      <td>Urban</td>\n",
       "      <td>Public</td>\n",
       "      <td>ZBH</td>\n",
       "      <td>Standard</td>\n",
       "      <td>30.0</td>\n",
       "      <td>YUEIH</td>\n",
       "      <td>Male</td>\n",
       "      <td>Qualifies for reduced/free lunch</td>\n",
       "      <td>46.0</td>\n",
       "      <td>53.0</td>\n",
       "    </tr>\n",
       "    <tr>\n",
       "      <th>2132</th>\n",
       "      <td>ZOWMK</td>\n",
       "      <td>Urban</td>\n",
       "      <td>Public</td>\n",
       "      <td>ZBH</td>\n",
       "      <td>Standard</td>\n",
       "      <td>30.0</td>\n",
       "      <td>ZVCQ8</td>\n",
       "      <td>Male</td>\n",
       "      <td>Qualifies for reduced/free lunch</td>\n",
       "      <td>41.0</td>\n",
       "      <td>48.0</td>\n",
       "    </tr>\n",
       "  </tbody>\n",
       "</table>\n",
       "<p>2133 rows × 11 columns</p>\n",
       "</div>"
      ],
      "text/plain": [
       "     school school_setting school_type classroom teaching_method  n_student  \\\n",
       "0     ANKYI          Urban  Non-public       6OL        Standard       20.0   \n",
       "1     ANKYI          Urban  Non-public       6OL        Standard       20.0   \n",
       "2     ANKYI          Urban  Non-public       6OL        Standard       20.0   \n",
       "3     ANKYI          Urban  Non-public       6OL        Standard       20.0   \n",
       "4     ANKYI          Urban  Non-public       6OL        Standard       20.0   \n",
       "...     ...            ...         ...       ...             ...        ...   \n",
       "2128  ZOWMK          Urban      Public       ZBH        Standard       30.0   \n",
       "2129  ZOWMK          Urban      Public       ZBH        Standard       30.0   \n",
       "2130  ZOWMK          Urban      Public       ZBH        Standard       30.0   \n",
       "2131  ZOWMK          Urban      Public       ZBH        Standard       30.0   \n",
       "2132  ZOWMK          Urban      Public       ZBH        Standard       30.0   \n",
       "\n",
       "     student_id  gender                             lunch  pretest  posttest  \n",
       "0         2FHT3  Female                  Does not qualify     62.0      72.0  \n",
       "1         3JIVH  Female                  Does not qualify     66.0      79.0  \n",
       "2         3XOWE    Male                  Does not qualify     64.0      76.0  \n",
       "3         556O0  Female                  Does not qualify     61.0      77.0  \n",
       "4         74LOE    Male                  Does not qualify     64.0      76.0  \n",
       "...         ...     ...                               ...      ...       ...  \n",
       "2128      T8LSK  Female                  Does not qualify     39.0      55.0  \n",
       "2129      VNP26  Female  Qualifies for reduced/free lunch     38.0      46.0  \n",
       "2130      YDR1Z  Female  Qualifies for reduced/free lunch     45.0      51.0  \n",
       "2131      YUEIH    Male  Qualifies for reduced/free lunch     46.0      53.0  \n",
       "2132      ZVCQ8    Male  Qualifies for reduced/free lunch     41.0      48.0  \n",
       "\n",
       "[2133 rows x 11 columns]"
      ]
     },
     "execution_count": 11,
     "metadata": {},
     "output_type": "execute_result"
    }
   ],
   "source": [
    "data = pd.read_csv(R'C:\\Users\\MOHAMMED HASHID\\Downloads\\test_scores.csv')\n",
    "data"
   ]
  },
  {
   "cell_type": "code",
   "execution_count": 12,
   "id": "3c462294",
   "metadata": {},
   "outputs": [
    {
     "data": {
      "text/html": [
       "<div>\n",
       "<style scoped>\n",
       "    .dataframe tbody tr th:only-of-type {\n",
       "        vertical-align: middle;\n",
       "    }\n",
       "\n",
       "    .dataframe tbody tr th {\n",
       "        vertical-align: top;\n",
       "    }\n",
       "\n",
       "    .dataframe thead th {\n",
       "        text-align: right;\n",
       "    }\n",
       "</style>\n",
       "<table border=\"1\" class=\"dataframe\">\n",
       "  <thead>\n",
       "    <tr style=\"text-align: right;\">\n",
       "      <th></th>\n",
       "      <th>school</th>\n",
       "      <th>school_setting</th>\n",
       "      <th>school_type</th>\n",
       "      <th>classroom</th>\n",
       "      <th>teaching_method</th>\n",
       "      <th>n_student</th>\n",
       "      <th>student_id</th>\n",
       "      <th>gender</th>\n",
       "      <th>lunch</th>\n",
       "      <th>pretest</th>\n",
       "      <th>posttest</th>\n",
       "    </tr>\n",
       "  </thead>\n",
       "  <tbody>\n",
       "    <tr>\n",
       "      <th>0</th>\n",
       "      <td>ANKYI</td>\n",
       "      <td>Urban</td>\n",
       "      <td>Non-public</td>\n",
       "      <td>6OL</td>\n",
       "      <td>Standard</td>\n",
       "      <td>20.0</td>\n",
       "      <td>2FHT3</td>\n",
       "      <td>Female</td>\n",
       "      <td>Does not qualify</td>\n",
       "      <td>62.0</td>\n",
       "      <td>72.0</td>\n",
       "    </tr>\n",
       "    <tr>\n",
       "      <th>1</th>\n",
       "      <td>ANKYI</td>\n",
       "      <td>Urban</td>\n",
       "      <td>Non-public</td>\n",
       "      <td>6OL</td>\n",
       "      <td>Standard</td>\n",
       "      <td>20.0</td>\n",
       "      <td>3JIVH</td>\n",
       "      <td>Female</td>\n",
       "      <td>Does not qualify</td>\n",
       "      <td>66.0</td>\n",
       "      <td>79.0</td>\n",
       "    </tr>\n",
       "    <tr>\n",
       "      <th>2</th>\n",
       "      <td>ANKYI</td>\n",
       "      <td>Urban</td>\n",
       "      <td>Non-public</td>\n",
       "      <td>6OL</td>\n",
       "      <td>Standard</td>\n",
       "      <td>20.0</td>\n",
       "      <td>3XOWE</td>\n",
       "      <td>Male</td>\n",
       "      <td>Does not qualify</td>\n",
       "      <td>64.0</td>\n",
       "      <td>76.0</td>\n",
       "    </tr>\n",
       "    <tr>\n",
       "      <th>3</th>\n",
       "      <td>ANKYI</td>\n",
       "      <td>Urban</td>\n",
       "      <td>Non-public</td>\n",
       "      <td>6OL</td>\n",
       "      <td>Standard</td>\n",
       "      <td>20.0</td>\n",
       "      <td>556O0</td>\n",
       "      <td>Female</td>\n",
       "      <td>Does not qualify</td>\n",
       "      <td>61.0</td>\n",
       "      <td>77.0</td>\n",
       "    </tr>\n",
       "    <tr>\n",
       "      <th>4</th>\n",
       "      <td>ANKYI</td>\n",
       "      <td>Urban</td>\n",
       "      <td>Non-public</td>\n",
       "      <td>6OL</td>\n",
       "      <td>Standard</td>\n",
       "      <td>20.0</td>\n",
       "      <td>74LOE</td>\n",
       "      <td>Male</td>\n",
       "      <td>Does not qualify</td>\n",
       "      <td>64.0</td>\n",
       "      <td>76.0</td>\n",
       "    </tr>\n",
       "  </tbody>\n",
       "</table>\n",
       "</div>"
      ],
      "text/plain": [
       "  school school_setting school_type classroom teaching_method  n_student  \\\n",
       "0  ANKYI          Urban  Non-public       6OL        Standard       20.0   \n",
       "1  ANKYI          Urban  Non-public       6OL        Standard       20.0   \n",
       "2  ANKYI          Urban  Non-public       6OL        Standard       20.0   \n",
       "3  ANKYI          Urban  Non-public       6OL        Standard       20.0   \n",
       "4  ANKYI          Urban  Non-public       6OL        Standard       20.0   \n",
       "\n",
       "  student_id  gender             lunch  pretest  posttest  \n",
       "0      2FHT3  Female  Does not qualify     62.0      72.0  \n",
       "1      3JIVH  Female  Does not qualify     66.0      79.0  \n",
       "2      3XOWE    Male  Does not qualify     64.0      76.0  \n",
       "3      556O0  Female  Does not qualify     61.0      77.0  \n",
       "4      74LOE    Male  Does not qualify     64.0      76.0  "
      ]
     },
     "execution_count": 12,
     "metadata": {},
     "output_type": "execute_result"
    }
   ],
   "source": [
    "data.head()"
   ]
  },
  {
   "cell_type": "code",
   "execution_count": 13,
   "id": "ea3ee636",
   "metadata": {
    "execution": {
     "iopub.execute_input": "2021-11-18T02:44:32.628794Z",
     "iopub.status.busy": "2021-11-18T02:44:32.628108Z",
     "iopub.status.idle": "2021-11-18T02:44:32.654835Z",
     "shell.execute_reply": "2021-11-18T02:44:32.654065Z",
     "shell.execute_reply.started": "2021-11-18T02:27:37.748942Z"
    },
    "papermill": {
     "duration": 0.089101,
     "end_time": "2021-11-18T02:44:32.655014",
     "exception": false,
     "start_time": "2021-11-18T02:44:32.565913",
     "status": "completed"
    },
    "tags": []
   },
   "outputs": [
    {
     "name": "stdout",
     "output_type": "stream",
     "text": [
      "<class 'pandas.core.frame.DataFrame'>\n",
      "RangeIndex: 2133 entries, 0 to 2132\n",
      "Data columns (total 11 columns):\n",
      " #   Column           Non-Null Count  Dtype  \n",
      "---  ------           --------------  -----  \n",
      " 0   school           2133 non-null   object \n",
      " 1   school_setting   2133 non-null   object \n",
      " 2   school_type      2133 non-null   object \n",
      " 3   classroom        2133 non-null   object \n",
      " 4   teaching_method  2133 non-null   object \n",
      " 5   n_student        2133 non-null   float64\n",
      " 6   student_id       2133 non-null   object \n",
      " 7   gender           2133 non-null   object \n",
      " 8   lunch            2133 non-null   object \n",
      " 9   pretest          2133 non-null   float64\n",
      " 10  posttest         2133 non-null   float64\n",
      "dtypes: float64(3), object(8)\n",
      "memory usage: 183.4+ KB\n"
     ]
    }
   ],
   "source": [
    "data.info()"
   ]
  },
  {
   "cell_type": "code",
   "execution_count": 14,
   "id": "69537c5e",
   "metadata": {
    "execution": {
     "iopub.execute_input": "2021-11-18T02:44:32.781913Z",
     "iopub.status.busy": "2021-11-18T02:44:32.781154Z",
     "iopub.status.idle": "2021-11-18T02:44:32.805479Z",
     "shell.execute_reply": "2021-11-18T02:44:32.804884Z",
     "shell.execute_reply.started": "2021-11-18T02:27:37.777094Z"
    },
    "papermill": {
     "duration": 0.090556,
     "end_time": "2021-11-18T02:44:32.805648",
     "exception": false,
     "start_time": "2021-11-18T02:44:32.715092",
     "status": "completed"
    },
    "tags": []
   },
   "outputs": [
    {
     "name": "stdout",
     "output_type": "stream",
     "text": [
      "(2133, 11)\n"
     ]
    },
    {
     "data": {
      "text/html": [
       "<div>\n",
       "<style scoped>\n",
       "    .dataframe tbody tr th:only-of-type {\n",
       "        vertical-align: middle;\n",
       "    }\n",
       "\n",
       "    .dataframe tbody tr th {\n",
       "        vertical-align: top;\n",
       "    }\n",
       "\n",
       "    .dataframe thead th {\n",
       "        text-align: right;\n",
       "    }\n",
       "</style>\n",
       "<table border=\"1\" class=\"dataframe\">\n",
       "  <thead>\n",
       "    <tr style=\"text-align: right;\">\n",
       "      <th></th>\n",
       "      <th>n_student</th>\n",
       "      <th>pretest</th>\n",
       "      <th>posttest</th>\n",
       "    </tr>\n",
       "  </thead>\n",
       "  <tbody>\n",
       "    <tr>\n",
       "      <th>count</th>\n",
       "      <td>2133.000000</td>\n",
       "      <td>2133.000000</td>\n",
       "      <td>2133.000000</td>\n",
       "    </tr>\n",
       "    <tr>\n",
       "      <th>mean</th>\n",
       "      <td>22.796531</td>\n",
       "      <td>54.955931</td>\n",
       "      <td>67.102203</td>\n",
       "    </tr>\n",
       "    <tr>\n",
       "      <th>std</th>\n",
       "      <td>4.228893</td>\n",
       "      <td>13.563101</td>\n",
       "      <td>13.986789</td>\n",
       "    </tr>\n",
       "    <tr>\n",
       "      <th>min</th>\n",
       "      <td>14.000000</td>\n",
       "      <td>22.000000</td>\n",
       "      <td>32.000000</td>\n",
       "    </tr>\n",
       "    <tr>\n",
       "      <th>25%</th>\n",
       "      <td>20.000000</td>\n",
       "      <td>44.000000</td>\n",
       "      <td>56.000000</td>\n",
       "    </tr>\n",
       "    <tr>\n",
       "      <th>50%</th>\n",
       "      <td>22.000000</td>\n",
       "      <td>56.000000</td>\n",
       "      <td>68.000000</td>\n",
       "    </tr>\n",
       "    <tr>\n",
       "      <th>75%</th>\n",
       "      <td>27.000000</td>\n",
       "      <td>65.000000</td>\n",
       "      <td>77.000000</td>\n",
       "    </tr>\n",
       "    <tr>\n",
       "      <th>max</th>\n",
       "      <td>31.000000</td>\n",
       "      <td>93.000000</td>\n",
       "      <td>100.000000</td>\n",
       "    </tr>\n",
       "  </tbody>\n",
       "</table>\n",
       "</div>"
      ],
      "text/plain": [
       "         n_student      pretest     posttest\n",
       "count  2133.000000  2133.000000  2133.000000\n",
       "mean     22.796531    54.955931    67.102203\n",
       "std       4.228893    13.563101    13.986789\n",
       "min      14.000000    22.000000    32.000000\n",
       "25%      20.000000    44.000000    56.000000\n",
       "50%      22.000000    56.000000    68.000000\n",
       "75%      27.000000    65.000000    77.000000\n",
       "max      31.000000    93.000000   100.000000"
      ]
     },
     "execution_count": 14,
     "metadata": {},
     "output_type": "execute_result"
    }
   ],
   "source": [
    "print(data.shape)\n",
    "data.describe()"
   ]
  },
  {
   "cell_type": "markdown",
   "id": "cbd3edfe",
   "metadata": {
    "papermill": {
     "duration": 0.056717,
     "end_time": "2021-11-18T02:44:32.927866",
     "exception": false,
     "start_time": "2021-11-18T02:44:32.871149",
     "status": "completed"
    },
    "tags": []
   },
   "source": [
    "# Exploratory Data Analysis"
   ]
  },
  {
   "cell_type": "code",
   "execution_count": 15,
   "id": "1cf0f05b",
   "metadata": {
    "execution": {
     "iopub.execute_input": "2021-11-18T02:44:33.048430Z",
     "iopub.status.busy": "2021-11-18T02:44:33.047751Z",
     "iopub.status.idle": "2021-11-18T02:44:33.060370Z",
     "shell.execute_reply": "2021-11-18T02:44:33.060966Z",
     "shell.execute_reply.started": "2021-11-18T02:27:37.807028Z"
    },
    "papermill": {
     "duration": 0.075108,
     "end_time": "2021-11-18T02:44:33.061153",
     "exception": false,
     "start_time": "2021-11-18T02:44:32.986045",
     "status": "completed"
    },
    "tags": []
   },
   "outputs": [
    {
     "data": {
      "text/html": [
       "<div>\n",
       "<style scoped>\n",
       "    .dataframe tbody tr th:only-of-type {\n",
       "        vertical-align: middle;\n",
       "    }\n",
       "\n",
       "    .dataframe tbody tr th {\n",
       "        vertical-align: top;\n",
       "    }\n",
       "\n",
       "    .dataframe thead th {\n",
       "        text-align: right;\n",
       "    }\n",
       "</style>\n",
       "<table border=\"1\" class=\"dataframe\">\n",
       "  <thead>\n",
       "    <tr style=\"text-align: right;\">\n",
       "      <th></th>\n",
       "      <th>n_student</th>\n",
       "      <th>pretest</th>\n",
       "      <th>posttest</th>\n",
       "    </tr>\n",
       "  </thead>\n",
       "  <tbody>\n",
       "    <tr>\n",
       "      <th>n_student</th>\n",
       "      <td>1.000000</td>\n",
       "      <td>-0.499253</td>\n",
       "      <td>-0.504886</td>\n",
       "    </tr>\n",
       "    <tr>\n",
       "      <th>pretest</th>\n",
       "      <td>-0.499253</td>\n",
       "      <td>1.000000</td>\n",
       "      <td>0.950884</td>\n",
       "    </tr>\n",
       "    <tr>\n",
       "      <th>posttest</th>\n",
       "      <td>-0.504886</td>\n",
       "      <td>0.950884</td>\n",
       "      <td>1.000000</td>\n",
       "    </tr>\n",
       "  </tbody>\n",
       "</table>\n",
       "</div>"
      ],
      "text/plain": [
       "           n_student   pretest  posttest\n",
       "n_student   1.000000 -0.499253 -0.504886\n",
       "pretest    -0.499253  1.000000  0.950884\n",
       "posttest   -0.504886  0.950884  1.000000"
      ]
     },
     "execution_count": 15,
     "metadata": {},
     "output_type": "execute_result"
    }
   ],
   "source": [
    "data.corr()"
   ]
  },
  {
   "cell_type": "markdown",
   "id": "4c20ca45",
   "metadata": {
    "papermill": {
     "duration": 0.060089,
     "end_time": "2021-11-18T02:44:33.181980",
     "exception": false,
     "start_time": "2021-11-18T02:44:33.121891",
     "status": "completed"
    },
    "tags": []
   },
   "source": [
    "Analysis:\n",
    "Post Test scores have strong positive correlations with Pre Test scores.\n",
    "Number of students have a slightly strong negative correlations with Test scores."
   ]
  },
  {
   "cell_type": "code",
   "execution_count": 16,
   "id": "e9ae3a4c",
   "metadata": {
    "execution": {
     "iopub.execute_input": "2021-11-18T02:44:33.302149Z",
     "iopub.status.busy": "2021-11-18T02:44:33.301474Z",
     "iopub.status.idle": "2021-11-18T02:44:33.314731Z",
     "shell.execute_reply": "2021-11-18T02:44:33.315181Z",
     "shell.execute_reply.started": "2021-11-18T02:27:37.824439Z"
    },
    "papermill": {
     "duration": 0.07452,
     "end_time": "2021-11-18T02:44:33.315400",
     "exception": false,
     "start_time": "2021-11-18T02:44:33.240880",
     "status": "completed"
    },
    "scrolled": true,
    "tags": []
   },
   "outputs": [
    {
     "name": "stdout",
     "output_type": "stream",
     "text": [
      "school_type\n",
      "Non-public    25.832161\n",
      "Public        74.167839\n",
      "Name: school, dtype: float64 \n",
      "\n",
      "\n",
      "\n"
     ]
    }
   ],
   "source": [
    "print(data.groupby(\"school_type\").count()[\"school\"]*100/data.shape[0], \"\\n\\n\\n\")"
   ]
  },
  {
   "cell_type": "markdown",
   "id": "e02358d0",
   "metadata": {
    "papermill": {
     "duration": 0.05841,
     "end_time": "2021-11-18T02:44:33.431629",
     "exception": false,
     "start_time": "2021-11-18T02:44:33.373219",
     "status": "completed"
    },
    "tags": []
   },
   "source": [
    "Analysis"
   ]
  },
  {
   "cell_type": "code",
   "execution_count": 17,
   "id": "0475c0ec",
   "metadata": {
    "execution": {
     "iopub.execute_input": "2021-11-18T02:44:33.552898Z",
     "iopub.status.busy": "2021-11-18T02:44:33.552227Z",
     "iopub.status.idle": "2021-11-18T02:44:33.582125Z",
     "shell.execute_reply": "2021-11-18T02:44:33.582672Z",
     "shell.execute_reply.started": "2021-11-18T02:27:37.840017Z"
    },
    "papermill": {
     "duration": 0.092219,
     "end_time": "2021-11-18T02:44:33.582878",
     "exception": false,
     "start_time": "2021-11-18T02:44:33.490659",
     "status": "completed"
    },
    "tags": []
   },
   "outputs": [
    {
     "name": "stdout",
     "output_type": "stream",
     "text": [
      "91.1640625\n",
      "47.91891891891892\n",
      "29.307692307692307\n",
      "15.565217391304348\n"
     ]
    },
    {
     "data": {
      "text/html": [
       "<div>\n",
       "<style scoped>\n",
       "    .dataframe tbody tr th:only-of-type {\n",
       "        vertical-align: middle;\n",
       "    }\n",
       "\n",
       "    .dataframe tbody tr th {\n",
       "        vertical-align: top;\n",
       "    }\n",
       "\n",
       "    .dataframe thead th {\n",
       "        text-align: right;\n",
       "    }\n",
       "</style>\n",
       "<table border=\"1\" class=\"dataframe\">\n",
       "  <thead>\n",
       "    <tr style=\"text-align: right;\">\n",
       "      <th></th>\n",
       "      <th>n_student</th>\n",
       "      <th>pretest</th>\n",
       "      <th>posttest</th>\n",
       "    </tr>\n",
       "    <tr>\n",
       "      <th>school</th>\n",
       "      <th></th>\n",
       "      <th></th>\n",
       "      <th></th>\n",
       "    </tr>\n",
       "  </thead>\n",
       "  <tbody>\n",
       "    <tr>\n",
       "      <th>ANKYI</th>\n",
       "      <td>20.512195</td>\n",
       "      <td>61.341463</td>\n",
       "      <td>71.390244</td>\n",
       "    </tr>\n",
       "    <tr>\n",
       "      <th>CCAAW</th>\n",
       "      <td>18.412844</td>\n",
       "      <td>64.623853</td>\n",
       "      <td>78.110092</td>\n",
       "    </tr>\n",
       "    <tr>\n",
       "      <th>CIMBB</th>\n",
       "      <td>18.648649</td>\n",
       "      <td>65.067568</td>\n",
       "      <td>76.945946</td>\n",
       "    </tr>\n",
       "    <tr>\n",
       "      <th>CUQAM</th>\n",
       "      <td>26.850467</td>\n",
       "      <td>53.925234</td>\n",
       "      <td>65.560748</td>\n",
       "    </tr>\n",
       "    <tr>\n",
       "      <th>DNQDD</th>\n",
       "      <td>24.934426</td>\n",
       "      <td>54.327869</td>\n",
       "      <td>66.565574</td>\n",
       "    </tr>\n",
       "    <tr>\n",
       "      <th>FBUMG</th>\n",
       "      <td>15.565217</td>\n",
       "      <td>62.891304</td>\n",
       "      <td>78.608696</td>\n",
       "    </tr>\n",
       "    <tr>\n",
       "      <th>GJJHK</th>\n",
       "      <td>23.932203</td>\n",
       "      <td>53.194915</td>\n",
       "      <td>65.025424</td>\n",
       "    </tr>\n",
       "    <tr>\n",
       "      <th>GOKXL</th>\n",
       "      <td>21.468750</td>\n",
       "      <td>50.796875</td>\n",
       "      <td>64.953125</td>\n",
       "    </tr>\n",
       "    <tr>\n",
       "      <th>GOOBU</th>\n",
       "      <td>26.569620</td>\n",
       "      <td>38.196203</td>\n",
       "      <td>49.613924</td>\n",
       "    </tr>\n",
       "    <tr>\n",
       "      <th>IDGFP</th>\n",
       "      <td>19.063830</td>\n",
       "      <td>75.202128</td>\n",
       "      <td>87.223404</td>\n",
       "    </tr>\n",
       "    <tr>\n",
       "      <th>KFZMY</th>\n",
       "      <td>26.038462</td>\n",
       "      <td>41.865385</td>\n",
       "      <td>54.576923</td>\n",
       "    </tr>\n",
       "    <tr>\n",
       "      <th>KZKKE</th>\n",
       "      <td>22.279279</td>\n",
       "      <td>37.261261</td>\n",
       "      <td>47.918919</td>\n",
       "    </tr>\n",
       "    <tr>\n",
       "      <th>LAYPA</th>\n",
       "      <td>19.140351</td>\n",
       "      <td>62.035088</td>\n",
       "      <td>73.508772</td>\n",
       "    </tr>\n",
       "    <tr>\n",
       "      <th>OJOBU</th>\n",
       "      <td>20.530864</td>\n",
       "      <td>56.197531</td>\n",
       "      <td>67.814815</td>\n",
       "    </tr>\n",
       "    <tr>\n",
       "      <th>QOQTS</th>\n",
       "      <td>25.080537</td>\n",
       "      <td>52.597315</td>\n",
       "      <td>64.671141</td>\n",
       "    </tr>\n",
       "    <tr>\n",
       "      <th>UAGPU</th>\n",
       "      <td>21.781609</td>\n",
       "      <td>62.390805</td>\n",
       "      <td>71.873563</td>\n",
       "    </tr>\n",
       "    <tr>\n",
       "      <th>UKPGS</th>\n",
       "      <td>21.593750</td>\n",
       "      <td>78.453125</td>\n",
       "      <td>91.164062</td>\n",
       "    </tr>\n",
       "    <tr>\n",
       "      <th>UUUQX</th>\n",
       "      <td>16.976190</td>\n",
       "      <td>67.309524</td>\n",
       "      <td>79.261905</td>\n",
       "    </tr>\n",
       "    <tr>\n",
       "      <th>VHDHF</th>\n",
       "      <td>17.274510</td>\n",
       "      <td>52.666667</td>\n",
       "      <td>66.843137</td>\n",
       "    </tr>\n",
       "    <tr>\n",
       "      <th>VKWQH</th>\n",
       "      <td>20.100000</td>\n",
       "      <td>52.060000</td>\n",
       "      <td>64.820000</td>\n",
       "    </tr>\n",
       "    <tr>\n",
       "      <th>VVTVA</th>\n",
       "      <td>28.649123</td>\n",
       "      <td>36.008772</td>\n",
       "      <td>49.175439</td>\n",
       "    </tr>\n",
       "    <tr>\n",
       "      <th>ZMNYA</th>\n",
       "      <td>23.028986</td>\n",
       "      <td>68.130435</td>\n",
       "      <td>81.608696</td>\n",
       "    </tr>\n",
       "    <tr>\n",
       "      <th>ZOWMK</th>\n",
       "      <td>29.307692</td>\n",
       "      <td>41.572650</td>\n",
       "      <td>52.905983</td>\n",
       "    </tr>\n",
       "  </tbody>\n",
       "</table>\n",
       "</div>"
      ],
      "text/plain": [
       "        n_student    pretest   posttest\n",
       "school                                 \n",
       "ANKYI   20.512195  61.341463  71.390244\n",
       "CCAAW   18.412844  64.623853  78.110092\n",
       "CIMBB   18.648649  65.067568  76.945946\n",
       "CUQAM   26.850467  53.925234  65.560748\n",
       "DNQDD   24.934426  54.327869  66.565574\n",
       "FBUMG   15.565217  62.891304  78.608696\n",
       "GJJHK   23.932203  53.194915  65.025424\n",
       "GOKXL   21.468750  50.796875  64.953125\n",
       "GOOBU   26.569620  38.196203  49.613924\n",
       "IDGFP   19.063830  75.202128  87.223404\n",
       "KFZMY   26.038462  41.865385  54.576923\n",
       "KZKKE   22.279279  37.261261  47.918919\n",
       "LAYPA   19.140351  62.035088  73.508772\n",
       "OJOBU   20.530864  56.197531  67.814815\n",
       "QOQTS   25.080537  52.597315  64.671141\n",
       "UAGPU   21.781609  62.390805  71.873563\n",
       "UKPGS   21.593750  78.453125  91.164062\n",
       "UUUQX   16.976190  67.309524  79.261905\n",
       "VHDHF   17.274510  52.666667  66.843137\n",
       "VKWQH   20.100000  52.060000  64.820000\n",
       "VVTVA   28.649123  36.008772  49.175439\n",
       "ZMNYA   23.028986  68.130435  81.608696\n",
       "ZOWMK   29.307692  41.572650  52.905983"
      ]
     },
     "execution_count": 17,
     "metadata": {},
     "output_type": "execute_result"
    }
   ],
   "source": [
    "\n",
    "\n",
    "print(data.groupby(\"school\").mean()[\"posttest\"].max())\n",
    "print(data.groupby(\"school\").mean()[\"posttest\"].min())\n",
    "print(data.groupby(\"school\").mean()[\"n_student\"].max())\n",
    "print(data.groupby(\"school\").mean()[\"n_student\"].min())\n",
    "data.groupby(\"school\").mean()\n"
   ]
  },
  {
   "cell_type": "markdown",
   "id": "67f4c98a",
   "metadata": {
    "papermill": {
     "duration": 0.059414,
     "end_time": "2021-11-18T02:44:33.701483",
     "exception": false,
     "start_time": "2021-11-18T02:44:33.642069",
     "status": "completed"
    },
    "tags": []
   },
   "source": [
    "**Analysis:**  \n",
    "UKPGS has the highest mean score (91.16).  \n",
    "KZKKE has the lowest mean score (47.92).  \n",
    "ZOWMK has the highest mean number of students per classroom (29.31).  \n",
    "FBUMG has the lowest mean number of students per classroom (15.57).  \n"
   ]
  },
  {
   "cell_type": "code",
   "execution_count": 18,
   "id": "98e511f1",
   "metadata": {
    "execution": {
     "iopub.execute_input": "2021-11-18T02:44:33.829676Z",
     "iopub.status.busy": "2021-11-18T02:44:33.828951Z",
     "iopub.status.idle": "2021-11-18T02:44:34.036407Z",
     "shell.execute_reply": "2021-11-18T02:44:34.035828Z",
     "shell.execute_reply.started": "2021-11-18T02:27:37.875225Z"
    },
    "papermill": {
     "duration": 0.275576,
     "end_time": "2021-11-18T02:44:34.036581",
     "exception": false,
     "start_time": "2021-11-18T02:44:33.761005",
     "status": "completed"
    },
    "tags": []
   },
   "outputs": [
    {
     "data": {
      "text/html": [
       "<div>\n",
       "<style scoped>\n",
       "    .dataframe tbody tr th:only-of-type {\n",
       "        vertical-align: middle;\n",
       "    }\n",
       "\n",
       "    .dataframe tbody tr th {\n",
       "        vertical-align: top;\n",
       "    }\n",
       "\n",
       "    .dataframe thead th {\n",
       "        text-align: right;\n",
       "    }\n",
       "</style>\n",
       "<table border=\"1\" class=\"dataframe\">\n",
       "  <thead>\n",
       "    <tr style=\"text-align: right;\">\n",
       "      <th></th>\n",
       "      <th>count</th>\n",
       "      <th>mean</th>\n",
       "      <th>std</th>\n",
       "      <th>min</th>\n",
       "      <th>25%</th>\n",
       "      <th>50%</th>\n",
       "      <th>75%</th>\n",
       "      <th>max</th>\n",
       "    </tr>\n",
       "    <tr>\n",
       "      <th>school</th>\n",
       "      <th></th>\n",
       "      <th></th>\n",
       "      <th></th>\n",
       "      <th></th>\n",
       "      <th></th>\n",
       "      <th></th>\n",
       "      <th></th>\n",
       "      <th></th>\n",
       "    </tr>\n",
       "  </thead>\n",
       "  <tbody>\n",
       "    <tr>\n",
       "      <th>ANKYI</th>\n",
       "      <td>41.0</td>\n",
       "      <td>71.390244</td>\n",
       "      <td>3.955237</td>\n",
       "      <td>63.0</td>\n",
       "      <td>69.00</td>\n",
       "      <td>71.0</td>\n",
       "      <td>74.00</td>\n",
       "      <td>79.0</td>\n",
       "    </tr>\n",
       "    <tr>\n",
       "      <th>CCAAW</th>\n",
       "      <td>109.0</td>\n",
       "      <td>78.110092</td>\n",
       "      <td>5.189625</td>\n",
       "      <td>67.0</td>\n",
       "      <td>74.00</td>\n",
       "      <td>78.0</td>\n",
       "      <td>82.00</td>\n",
       "      <td>91.0</td>\n",
       "    </tr>\n",
       "    <tr>\n",
       "      <th>CIMBB</th>\n",
       "      <td>74.0</td>\n",
       "      <td>76.945946</td>\n",
       "      <td>5.556415</td>\n",
       "      <td>64.0</td>\n",
       "      <td>73.25</td>\n",
       "      <td>78.0</td>\n",
       "      <td>80.75</td>\n",
       "      <td>88.0</td>\n",
       "    </tr>\n",
       "    <tr>\n",
       "      <th>CUQAM</th>\n",
       "      <td>107.0</td>\n",
       "      <td>65.560748</td>\n",
       "      <td>4.459837</td>\n",
       "      <td>56.0</td>\n",
       "      <td>62.50</td>\n",
       "      <td>65.0</td>\n",
       "      <td>69.00</td>\n",
       "      <td>76.0</td>\n",
       "    </tr>\n",
       "    <tr>\n",
       "      <th>DNQDD</th>\n",
       "      <td>122.0</td>\n",
       "      <td>66.565574</td>\n",
       "      <td>6.535330</td>\n",
       "      <td>49.0</td>\n",
       "      <td>62.00</td>\n",
       "      <td>67.0</td>\n",
       "      <td>71.75</td>\n",
       "      <td>79.0</td>\n",
       "    </tr>\n",
       "    <tr>\n",
       "      <th>FBUMG</th>\n",
       "      <td>46.0</td>\n",
       "      <td>78.608696</td>\n",
       "      <td>4.772506</td>\n",
       "      <td>68.0</td>\n",
       "      <td>76.00</td>\n",
       "      <td>79.0</td>\n",
       "      <td>82.00</td>\n",
       "      <td>88.0</td>\n",
       "    </tr>\n",
       "    <tr>\n",
       "      <th>GJJHK</th>\n",
       "      <td>118.0</td>\n",
       "      <td>65.025424</td>\n",
       "      <td>8.807982</td>\n",
       "      <td>49.0</td>\n",
       "      <td>59.00</td>\n",
       "      <td>63.0</td>\n",
       "      <td>71.50</td>\n",
       "      <td>85.0</td>\n",
       "    </tr>\n",
       "    <tr>\n",
       "      <th>GOKXL</th>\n",
       "      <td>64.0</td>\n",
       "      <td>64.953125</td>\n",
       "      <td>8.046353</td>\n",
       "      <td>48.0</td>\n",
       "      <td>57.00</td>\n",
       "      <td>68.5</td>\n",
       "      <td>71.00</td>\n",
       "      <td>77.0</td>\n",
       "    </tr>\n",
       "    <tr>\n",
       "      <th>GOOBU</th>\n",
       "      <td>158.0</td>\n",
       "      <td>49.613924</td>\n",
       "      <td>6.627221</td>\n",
       "      <td>32.0</td>\n",
       "      <td>44.00</td>\n",
       "      <td>50.0</td>\n",
       "      <td>55.00</td>\n",
       "      <td>64.0</td>\n",
       "    </tr>\n",
       "    <tr>\n",
       "      <th>IDGFP</th>\n",
       "      <td>94.0</td>\n",
       "      <td>87.223404</td>\n",
       "      <td>7.447529</td>\n",
       "      <td>74.0</td>\n",
       "      <td>81.00</td>\n",
       "      <td>86.0</td>\n",
       "      <td>93.75</td>\n",
       "      <td>100.0</td>\n",
       "    </tr>\n",
       "    <tr>\n",
       "      <th>KFZMY</th>\n",
       "      <td>52.0</td>\n",
       "      <td>54.576923</td>\n",
       "      <td>4.944183</td>\n",
       "      <td>44.0</td>\n",
       "      <td>51.00</td>\n",
       "      <td>55.0</td>\n",
       "      <td>57.00</td>\n",
       "      <td>67.0</td>\n",
       "    </tr>\n",
       "    <tr>\n",
       "      <th>KZKKE</th>\n",
       "      <td>111.0</td>\n",
       "      <td>47.918919</td>\n",
       "      <td>7.312673</td>\n",
       "      <td>36.0</td>\n",
       "      <td>42.00</td>\n",
       "      <td>45.0</td>\n",
       "      <td>54.50</td>\n",
       "      <td>62.0</td>\n",
       "    </tr>\n",
       "    <tr>\n",
       "      <th>LAYPA</th>\n",
       "      <td>57.0</td>\n",
       "      <td>73.508772</td>\n",
       "      <td>5.141299</td>\n",
       "      <td>63.0</td>\n",
       "      <td>70.00</td>\n",
       "      <td>72.0</td>\n",
       "      <td>78.00</td>\n",
       "      <td>84.0</td>\n",
       "    </tr>\n",
       "    <tr>\n",
       "      <th>OJOBU</th>\n",
       "      <td>81.0</td>\n",
       "      <td>67.814815</td>\n",
       "      <td>8.101097</td>\n",
       "      <td>50.0</td>\n",
       "      <td>62.00</td>\n",
       "      <td>68.0</td>\n",
       "      <td>73.00</td>\n",
       "      <td>84.0</td>\n",
       "    </tr>\n",
       "    <tr>\n",
       "      <th>QOQTS</th>\n",
       "      <td>149.0</td>\n",
       "      <td>64.671141</td>\n",
       "      <td>7.185235</td>\n",
       "      <td>51.0</td>\n",
       "      <td>60.00</td>\n",
       "      <td>63.0</td>\n",
       "      <td>69.00</td>\n",
       "      <td>85.0</td>\n",
       "    </tr>\n",
       "    <tr>\n",
       "      <th>UAGPU</th>\n",
       "      <td>87.0</td>\n",
       "      <td>71.873563</td>\n",
       "      <td>4.855600</td>\n",
       "      <td>62.0</td>\n",
       "      <td>68.00</td>\n",
       "      <td>71.0</td>\n",
       "      <td>76.00</td>\n",
       "      <td>83.0</td>\n",
       "    </tr>\n",
       "    <tr>\n",
       "      <th>UKPGS</th>\n",
       "      <td>128.0</td>\n",
       "      <td>91.164062</td>\n",
       "      <td>3.415521</td>\n",
       "      <td>82.0</td>\n",
       "      <td>89.00</td>\n",
       "      <td>91.0</td>\n",
       "      <td>93.00</td>\n",
       "      <td>99.0</td>\n",
       "    </tr>\n",
       "    <tr>\n",
       "      <th>UUUQX</th>\n",
       "      <td>84.0</td>\n",
       "      <td>79.261905</td>\n",
       "      <td>6.101785</td>\n",
       "      <td>62.0</td>\n",
       "      <td>75.00</td>\n",
       "      <td>79.0</td>\n",
       "      <td>84.25</td>\n",
       "      <td>91.0</td>\n",
       "    </tr>\n",
       "    <tr>\n",
       "      <th>VHDHF</th>\n",
       "      <td>51.0</td>\n",
       "      <td>66.843137</td>\n",
       "      <td>6.601129</td>\n",
       "      <td>52.0</td>\n",
       "      <td>61.00</td>\n",
       "      <td>69.0</td>\n",
       "      <td>72.00</td>\n",
       "      <td>77.0</td>\n",
       "    </tr>\n",
       "    <tr>\n",
       "      <th>VKWQH</th>\n",
       "      <td>100.0</td>\n",
       "      <td>64.820000</td>\n",
       "      <td>9.619404</td>\n",
       "      <td>48.0</td>\n",
       "      <td>57.00</td>\n",
       "      <td>61.0</td>\n",
       "      <td>74.25</td>\n",
       "      <td>82.0</td>\n",
       "    </tr>\n",
       "    <tr>\n",
       "      <th>VVTVA</th>\n",
       "      <td>114.0</td>\n",
       "      <td>49.175439</td>\n",
       "      <td>3.426202</td>\n",
       "      <td>39.0</td>\n",
       "      <td>47.00</td>\n",
       "      <td>49.0</td>\n",
       "      <td>51.00</td>\n",
       "      <td>62.0</td>\n",
       "    </tr>\n",
       "    <tr>\n",
       "      <th>ZMNYA</th>\n",
       "      <td>69.0</td>\n",
       "      <td>81.608696</td>\n",
       "      <td>7.750175</td>\n",
       "      <td>66.0</td>\n",
       "      <td>77.00</td>\n",
       "      <td>81.0</td>\n",
       "      <td>87.00</td>\n",
       "      <td>95.0</td>\n",
       "    </tr>\n",
       "    <tr>\n",
       "      <th>ZOWMK</th>\n",
       "      <td>117.0</td>\n",
       "      <td>52.905983</td>\n",
       "      <td>4.356887</td>\n",
       "      <td>43.0</td>\n",
       "      <td>50.00</td>\n",
       "      <td>53.0</td>\n",
       "      <td>55.00</td>\n",
       "      <td>63.0</td>\n",
       "    </tr>\n",
       "  </tbody>\n",
       "</table>\n",
       "</div>"
      ],
      "text/plain": [
       "        count       mean       std   min    25%   50%    75%    max\n",
       "school                                                             \n",
       "ANKYI    41.0  71.390244  3.955237  63.0  69.00  71.0  74.00   79.0\n",
       "CCAAW   109.0  78.110092  5.189625  67.0  74.00  78.0  82.00   91.0\n",
       "CIMBB    74.0  76.945946  5.556415  64.0  73.25  78.0  80.75   88.0\n",
       "CUQAM   107.0  65.560748  4.459837  56.0  62.50  65.0  69.00   76.0\n",
       "DNQDD   122.0  66.565574  6.535330  49.0  62.00  67.0  71.75   79.0\n",
       "FBUMG    46.0  78.608696  4.772506  68.0  76.00  79.0  82.00   88.0\n",
       "GJJHK   118.0  65.025424  8.807982  49.0  59.00  63.0  71.50   85.0\n",
       "GOKXL    64.0  64.953125  8.046353  48.0  57.00  68.5  71.00   77.0\n",
       "GOOBU   158.0  49.613924  6.627221  32.0  44.00  50.0  55.00   64.0\n",
       "IDGFP    94.0  87.223404  7.447529  74.0  81.00  86.0  93.75  100.0\n",
       "KFZMY    52.0  54.576923  4.944183  44.0  51.00  55.0  57.00   67.0\n",
       "KZKKE   111.0  47.918919  7.312673  36.0  42.00  45.0  54.50   62.0\n",
       "LAYPA    57.0  73.508772  5.141299  63.0  70.00  72.0  78.00   84.0\n",
       "OJOBU    81.0  67.814815  8.101097  50.0  62.00  68.0  73.00   84.0\n",
       "QOQTS   149.0  64.671141  7.185235  51.0  60.00  63.0  69.00   85.0\n",
       "UAGPU    87.0  71.873563  4.855600  62.0  68.00  71.0  76.00   83.0\n",
       "UKPGS   128.0  91.164062  3.415521  82.0  89.00  91.0  93.00   99.0\n",
       "UUUQX    84.0  79.261905  6.101785  62.0  75.00  79.0  84.25   91.0\n",
       "VHDHF    51.0  66.843137  6.601129  52.0  61.00  69.0  72.00   77.0\n",
       "VKWQH   100.0  64.820000  9.619404  48.0  57.00  61.0  74.25   82.0\n",
       "VVTVA   114.0  49.175439  3.426202  39.0  47.00  49.0  51.00   62.0\n",
       "ZMNYA    69.0  81.608696  7.750175  66.0  77.00  81.0  87.00   95.0\n",
       "ZOWMK   117.0  52.905983  4.356887  43.0  50.00  53.0  55.00   63.0"
      ]
     },
     "execution_count": 18,
     "metadata": {},
     "output_type": "execute_result"
    }
   ],
   "source": [
    "data.groupby(\"school\").describe()[\"posttest\"]"
   ]
  },
  {
   "cell_type": "markdown",
   "id": "1e978fac",
   "metadata": {
    "papermill": {
     "duration": 0.061343,
     "end_time": "2021-11-18T02:44:34.159973",
     "exception": false,
     "start_time": "2021-11-18T02:44:34.098630",
     "status": "completed"
    },
    "tags": []
   },
   "source": [
    "**Analysis**  \n",
    "The best performing student(s) is/are from IDGFP.  \n",
    "The worst performing student(s) is/are from GOOBU.  "
   ]
  },
  {
   "cell_type": "code",
   "execution_count": 19,
   "id": "3828ade5",
   "metadata": {
    "execution": {
     "iopub.execute_input": "2021-11-18T02:44:34.288087Z",
     "iopub.status.busy": "2021-11-18T02:44:34.287313Z",
     "iopub.status.idle": "2021-11-18T02:44:34.483864Z",
     "shell.execute_reply": "2021-11-18T02:44:34.483239Z",
     "shell.execute_reply.started": "2021-11-18T02:27:38.080554Z"
    },
    "papermill": {
     "duration": 0.263889,
     "end_time": "2021-11-18T02:44:34.484027",
     "exception": false,
     "start_time": "2021-11-18T02:44:34.220138",
     "status": "completed"
    },
    "tags": []
   },
   "outputs": [
    {
     "data": {
      "text/html": [
       "<div>\n",
       "<style scoped>\n",
       "    .dataframe tbody tr th:only-of-type {\n",
       "        vertical-align: middle;\n",
       "    }\n",
       "\n",
       "    .dataframe tbody tr th {\n",
       "        vertical-align: top;\n",
       "    }\n",
       "\n",
       "    .dataframe thead th {\n",
       "        text-align: right;\n",
       "    }\n",
       "</style>\n",
       "<table border=\"1\" class=\"dataframe\">\n",
       "  <thead>\n",
       "    <tr style=\"text-align: right;\">\n",
       "      <th></th>\n",
       "      <th>count</th>\n",
       "      <th>mean</th>\n",
       "      <th>std</th>\n",
       "      <th>min</th>\n",
       "      <th>25%</th>\n",
       "      <th>50%</th>\n",
       "      <th>75%</th>\n",
       "      <th>max</th>\n",
       "    </tr>\n",
       "    <tr>\n",
       "      <th>school</th>\n",
       "      <th></th>\n",
       "      <th></th>\n",
       "      <th></th>\n",
       "      <th></th>\n",
       "      <th></th>\n",
       "      <th></th>\n",
       "      <th></th>\n",
       "      <th></th>\n",
       "    </tr>\n",
       "  </thead>\n",
       "  <tbody>\n",
       "    <tr>\n",
       "      <th>ANKYI</th>\n",
       "      <td>41.0</td>\n",
       "      <td>61.341463</td>\n",
       "      <td>3.038172</td>\n",
       "      <td>54.0</td>\n",
       "      <td>60.00</td>\n",
       "      <td>61.0</td>\n",
       "      <td>64.00</td>\n",
       "      <td>67.0</td>\n",
       "    </tr>\n",
       "    <tr>\n",
       "      <th>CCAAW</th>\n",
       "      <td>109.0</td>\n",
       "      <td>64.623853</td>\n",
       "      <td>6.232812</td>\n",
       "      <td>48.0</td>\n",
       "      <td>61.00</td>\n",
       "      <td>65.0</td>\n",
       "      <td>68.00</td>\n",
       "      <td>78.0</td>\n",
       "    </tr>\n",
       "    <tr>\n",
       "      <th>CIMBB</th>\n",
       "      <td>74.0</td>\n",
       "      <td>65.067568</td>\n",
       "      <td>4.705960</td>\n",
       "      <td>54.0</td>\n",
       "      <td>62.00</td>\n",
       "      <td>65.5</td>\n",
       "      <td>68.75</td>\n",
       "      <td>73.0</td>\n",
       "    </tr>\n",
       "    <tr>\n",
       "      <th>CUQAM</th>\n",
       "      <td>107.0</td>\n",
       "      <td>53.925234</td>\n",
       "      <td>3.656736</td>\n",
       "      <td>44.0</td>\n",
       "      <td>52.00</td>\n",
       "      <td>53.0</td>\n",
       "      <td>56.50</td>\n",
       "      <td>61.0</td>\n",
       "    </tr>\n",
       "    <tr>\n",
       "      <th>DNQDD</th>\n",
       "      <td>122.0</td>\n",
       "      <td>54.327869</td>\n",
       "      <td>6.935884</td>\n",
       "      <td>36.0</td>\n",
       "      <td>50.25</td>\n",
       "      <td>55.5</td>\n",
       "      <td>60.00</td>\n",
       "      <td>67.0</td>\n",
       "    </tr>\n",
       "    <tr>\n",
       "      <th>FBUMG</th>\n",
       "      <td>46.0</td>\n",
       "      <td>62.891304</td>\n",
       "      <td>4.872728</td>\n",
       "      <td>53.0</td>\n",
       "      <td>58.25</td>\n",
       "      <td>63.5</td>\n",
       "      <td>66.00</td>\n",
       "      <td>73.0</td>\n",
       "    </tr>\n",
       "    <tr>\n",
       "      <th>GJJHK</th>\n",
       "      <td>118.0</td>\n",
       "      <td>53.194915</td>\n",
       "      <td>7.219701</td>\n",
       "      <td>38.0</td>\n",
       "      <td>47.00</td>\n",
       "      <td>53.5</td>\n",
       "      <td>59.00</td>\n",
       "      <td>68.0</td>\n",
       "    </tr>\n",
       "    <tr>\n",
       "      <th>GOKXL</th>\n",
       "      <td>64.0</td>\n",
       "      <td>50.796875</td>\n",
       "      <td>6.071478</td>\n",
       "      <td>36.0</td>\n",
       "      <td>45.75</td>\n",
       "      <td>52.0</td>\n",
       "      <td>55.00</td>\n",
       "      <td>61.0</td>\n",
       "    </tr>\n",
       "    <tr>\n",
       "      <th>GOOBU</th>\n",
       "      <td>158.0</td>\n",
       "      <td>38.196203</td>\n",
       "      <td>6.142116</td>\n",
       "      <td>23.0</td>\n",
       "      <td>33.25</td>\n",
       "      <td>38.0</td>\n",
       "      <td>42.00</td>\n",
       "      <td>55.0</td>\n",
       "    </tr>\n",
       "    <tr>\n",
       "      <th>IDGFP</th>\n",
       "      <td>94.0</td>\n",
       "      <td>75.202128</td>\n",
       "      <td>6.024287</td>\n",
       "      <td>63.0</td>\n",
       "      <td>71.00</td>\n",
       "      <td>74.0</td>\n",
       "      <td>78.00</td>\n",
       "      <td>93.0</td>\n",
       "    </tr>\n",
       "    <tr>\n",
       "      <th>KFZMY</th>\n",
       "      <td>52.0</td>\n",
       "      <td>41.865385</td>\n",
       "      <td>3.131302</td>\n",
       "      <td>37.0</td>\n",
       "      <td>39.00</td>\n",
       "      <td>42.0</td>\n",
       "      <td>43.25</td>\n",
       "      <td>51.0</td>\n",
       "    </tr>\n",
       "    <tr>\n",
       "      <th>KZKKE</th>\n",
       "      <td>111.0</td>\n",
       "      <td>37.261261</td>\n",
       "      <td>7.524157</td>\n",
       "      <td>26.0</td>\n",
       "      <td>31.00</td>\n",
       "      <td>34.0</td>\n",
       "      <td>45.00</td>\n",
       "      <td>53.0</td>\n",
       "    </tr>\n",
       "    <tr>\n",
       "      <th>LAYPA</th>\n",
       "      <td>57.0</td>\n",
       "      <td>62.035088</td>\n",
       "      <td>3.736714</td>\n",
       "      <td>53.0</td>\n",
       "      <td>59.00</td>\n",
       "      <td>62.0</td>\n",
       "      <td>65.00</td>\n",
       "      <td>68.0</td>\n",
       "    </tr>\n",
       "    <tr>\n",
       "      <th>OJOBU</th>\n",
       "      <td>81.0</td>\n",
       "      <td>56.197531</td>\n",
       "      <td>6.144957</td>\n",
       "      <td>43.0</td>\n",
       "      <td>52.00</td>\n",
       "      <td>58.0</td>\n",
       "      <td>61.00</td>\n",
       "      <td>67.0</td>\n",
       "    </tr>\n",
       "    <tr>\n",
       "      <th>QOQTS</th>\n",
       "      <td>149.0</td>\n",
       "      <td>52.597315</td>\n",
       "      <td>6.453492</td>\n",
       "      <td>39.0</td>\n",
       "      <td>49.00</td>\n",
       "      <td>52.0</td>\n",
       "      <td>57.00</td>\n",
       "      <td>67.0</td>\n",
       "    </tr>\n",
       "    <tr>\n",
       "      <th>UAGPU</th>\n",
       "      <td>87.0</td>\n",
       "      <td>62.390805</td>\n",
       "      <td>5.268062</td>\n",
       "      <td>50.0</td>\n",
       "      <td>58.00</td>\n",
       "      <td>63.0</td>\n",
       "      <td>67.00</td>\n",
       "      <td>73.0</td>\n",
       "    </tr>\n",
       "    <tr>\n",
       "      <th>UKPGS</th>\n",
       "      <td>128.0</td>\n",
       "      <td>78.453125</td>\n",
       "      <td>5.152569</td>\n",
       "      <td>67.0</td>\n",
       "      <td>75.00</td>\n",
       "      <td>78.0</td>\n",
       "      <td>82.25</td>\n",
       "      <td>91.0</td>\n",
       "    </tr>\n",
       "    <tr>\n",
       "      <th>UUUQX</th>\n",
       "      <td>84.0</td>\n",
       "      <td>67.309524</td>\n",
       "      <td>4.844513</td>\n",
       "      <td>55.0</td>\n",
       "      <td>64.00</td>\n",
       "      <td>68.0</td>\n",
       "      <td>71.00</td>\n",
       "      <td>78.0</td>\n",
       "    </tr>\n",
       "    <tr>\n",
       "      <th>VHDHF</th>\n",
       "      <td>51.0</td>\n",
       "      <td>52.666667</td>\n",
       "      <td>4.111772</td>\n",
       "      <td>44.0</td>\n",
       "      <td>50.50</td>\n",
       "      <td>53.0</td>\n",
       "      <td>55.00</td>\n",
       "      <td>60.0</td>\n",
       "    </tr>\n",
       "    <tr>\n",
       "      <th>VKWQH</th>\n",
       "      <td>100.0</td>\n",
       "      <td>52.060000</td>\n",
       "      <td>9.303871</td>\n",
       "      <td>36.0</td>\n",
       "      <td>43.00</td>\n",
       "      <td>50.0</td>\n",
       "      <td>61.00</td>\n",
       "      <td>69.0</td>\n",
       "    </tr>\n",
       "    <tr>\n",
       "      <th>VVTVA</th>\n",
       "      <td>114.0</td>\n",
       "      <td>36.008772</td>\n",
       "      <td>5.236860</td>\n",
       "      <td>22.0</td>\n",
       "      <td>32.00</td>\n",
       "      <td>35.0</td>\n",
       "      <td>40.00</td>\n",
       "      <td>57.0</td>\n",
       "    </tr>\n",
       "    <tr>\n",
       "      <th>ZMNYA</th>\n",
       "      <td>69.0</td>\n",
       "      <td>68.130435</td>\n",
       "      <td>5.567535</td>\n",
       "      <td>56.0</td>\n",
       "      <td>65.00</td>\n",
       "      <td>67.0</td>\n",
       "      <td>73.00</td>\n",
       "      <td>81.0</td>\n",
       "    </tr>\n",
       "    <tr>\n",
       "      <th>ZOWMK</th>\n",
       "      <td>117.0</td>\n",
       "      <td>41.572650</td>\n",
       "      <td>5.382469</td>\n",
       "      <td>25.0</td>\n",
       "      <td>38.00</td>\n",
       "      <td>41.0</td>\n",
       "      <td>45.00</td>\n",
       "      <td>54.0</td>\n",
       "    </tr>\n",
       "  </tbody>\n",
       "</table>\n",
       "</div>"
      ],
      "text/plain": [
       "        count       mean       std   min    25%   50%    75%   max\n",
       "school                                                            \n",
       "ANKYI    41.0  61.341463  3.038172  54.0  60.00  61.0  64.00  67.0\n",
       "CCAAW   109.0  64.623853  6.232812  48.0  61.00  65.0  68.00  78.0\n",
       "CIMBB    74.0  65.067568  4.705960  54.0  62.00  65.5  68.75  73.0\n",
       "CUQAM   107.0  53.925234  3.656736  44.0  52.00  53.0  56.50  61.0\n",
       "DNQDD   122.0  54.327869  6.935884  36.0  50.25  55.5  60.00  67.0\n",
       "FBUMG    46.0  62.891304  4.872728  53.0  58.25  63.5  66.00  73.0\n",
       "GJJHK   118.0  53.194915  7.219701  38.0  47.00  53.5  59.00  68.0\n",
       "GOKXL    64.0  50.796875  6.071478  36.0  45.75  52.0  55.00  61.0\n",
       "GOOBU   158.0  38.196203  6.142116  23.0  33.25  38.0  42.00  55.0\n",
       "IDGFP    94.0  75.202128  6.024287  63.0  71.00  74.0  78.00  93.0\n",
       "KFZMY    52.0  41.865385  3.131302  37.0  39.00  42.0  43.25  51.0\n",
       "KZKKE   111.0  37.261261  7.524157  26.0  31.00  34.0  45.00  53.0\n",
       "LAYPA    57.0  62.035088  3.736714  53.0  59.00  62.0  65.00  68.0\n",
       "OJOBU    81.0  56.197531  6.144957  43.0  52.00  58.0  61.00  67.0\n",
       "QOQTS   149.0  52.597315  6.453492  39.0  49.00  52.0  57.00  67.0\n",
       "UAGPU    87.0  62.390805  5.268062  50.0  58.00  63.0  67.00  73.0\n",
       "UKPGS   128.0  78.453125  5.152569  67.0  75.00  78.0  82.25  91.0\n",
       "UUUQX    84.0  67.309524  4.844513  55.0  64.00  68.0  71.00  78.0\n",
       "VHDHF    51.0  52.666667  4.111772  44.0  50.50  53.0  55.00  60.0\n",
       "VKWQH   100.0  52.060000  9.303871  36.0  43.00  50.0  61.00  69.0\n",
       "VVTVA   114.0  36.008772  5.236860  22.0  32.00  35.0  40.00  57.0\n",
       "ZMNYA    69.0  68.130435  5.567535  56.0  65.00  67.0  73.00  81.0\n",
       "ZOWMK   117.0  41.572650  5.382469  25.0  38.00  41.0  45.00  54.0"
      ]
     },
     "execution_count": 19,
     "metadata": {},
     "output_type": "execute_result"
    }
   ],
   "source": [
    "data.groupby(\"school\").describe()[\"pretest\"]"
   ]
  },
  {
   "cell_type": "code",
   "execution_count": 72,
   "id": "89af76a3",
   "metadata": {
    "execution": {
     "iopub.execute_input": "2021-11-18T02:44:34.637516Z",
     "iopub.status.busy": "2021-11-18T02:44:34.636754Z",
     "iopub.status.idle": "2021-11-18T02:44:35.487899Z",
     "shell.execute_reply": "2021-11-18T02:44:35.488410Z",
     "shell.execute_reply.started": "2021-11-18T02:27:38.279217Z"
    },
    "papermill": {
     "duration": 0.941197,
     "end_time": "2021-11-18T02:44:35.488683",
     "exception": false,
     "start_time": "2021-11-18T02:44:34.547486",
     "status": "completed"
    },
    "tags": []
   },
   "outputs": [
    {
     "data": {
      "text/plain": [
       "<AxesSubplot:title={'center':'Lunch'}, ylabel='school'>"
      ]
     },
     "execution_count": 72,
     "metadata": {},
     "output_type": "execute_result"
    },
    {
     "data": {
      "image/png": "[encoded data removed]",
      "text/plain": [
       "<Figure size 432x288 with 6 Axes>"
      ]
     },
     "metadata": {
      "needs_background": "light"
     },
     "output_type": "display_data"
    }
   ],
   "source": [
    "fig,a= plt.subplots(3,2)\n",
    "data.groupby(\"school_setting\").count()[\"school\"].plot(kind=\"pie\", ax=a[0][0], title=\"School Setting\", autopct='%1.2f%%')\n",
    "data.groupby(\"school_type\").count()[\"school\"].plot(kind=\"pie\", ax=a[0][1], title=\"School Type\", autopct='%1.2f%%')\n",
    "data.groupby(\"teaching_method\").count()[\"school\"].plot(kind=\"pie\", ax=a[1][0], title=\"Teaching Method\", autopct='%1.2f%%')\n",
    "data.groupby(\"gender\").count()[\"school\"].plot(kind=\"pie\", ax=a[1][1], title=\"Gender\", autopct='%1.2f%%')\n",
    "data.groupby(\"lunch\").count()[\"school\"].plot(kind=\"pie\", ax=a[2][0], title=\"Lunch\", autopct='%1.2f%%')\n"
   ]
  },
  {
   "cell_type": "markdown",
   "id": "000ff69a",
   "metadata": {
    "papermill": {
     "duration": 0.06304,
     "end_time": "2021-11-18T02:44:35.614884",
     "exception": false,
     "start_time": "2021-11-18T02:44:35.551844",
     "status": "completed"
    },
    "tags": []
   },
   "source": [
    "**Analysis**  \n",
    "More students are from urban school settings than any other. Rural settings have the least number of students.  \n",
    "More students are from public schools than Non-public with public schools having about 3 times more than the population of non-public students that took the test.  \n",
    "Most classes/schools follow standard teaching methods as opposed to experimental methods.  \n",
    "The proportion of male and female test takers are almost the same.  \n",
    "Most students don't qualify for lunch.  "
   ]
  },
  {
   "cell_type": "code",
   "execution_count": 21,
   "id": "6d05e2d1",
   "metadata": {
    "execution": {
     "iopub.execute_input": "2021-11-18T02:44:35.751634Z",
     "iopub.status.busy": "2021-11-18T02:44:35.750829Z",
     "iopub.status.idle": "2021-11-18T02:44:36.031858Z",
     "shell.execute_reply": "2021-11-18T02:44:36.031217Z",
     "shell.execute_reply.started": "2021-11-18T02:27:39.088052Z"
    },
    "papermill": {
     "duration": 0.350485,
     "end_time": "2021-11-18T02:44:36.032039",
     "exception": false,
     "start_time": "2021-11-18T02:44:35.681554",
     "status": "completed"
    },
    "scrolled": true,
    "tags": []
   },
   "outputs": [
    {
     "data": {
      "text/plain": [
       "<AxesSubplot:>"
      ]
     },
     "execution_count": 21,
     "metadata": {},
     "output_type": "execute_result"
    },
    {
     "data": {
      "image/png": "[encoded data removed]",
      "text/plain": [
       "<Figure size 432x288 with 1 Axes>"
      ]
     },
     "metadata": {
      "needs_background": "light"
     },
     "output_type": "display_data"
    }
   ],
   "source": [
    "data[\"pretest\"].hist(bins=10)"
   ]
  },
  {
   "cell_type": "code",
   "execution_count": 22,
   "id": "cd1e0b22",
   "metadata": {
    "execution": {
     "iopub.execute_input": "2021-11-18T02:44:36.165405Z",
     "iopub.status.busy": "2021-11-18T02:44:36.164634Z",
     "iopub.status.idle": "2021-11-18T02:44:36.438937Z",
     "shell.execute_reply": "2021-11-18T02:44:36.439540Z",
     "shell.execute_reply.started": "2021-11-18T02:27:39.373972Z"
    },
    "papermill": {
     "duration": 0.34382,
     "end_time": "2021-11-18T02:44:36.439753",
     "exception": false,
     "start_time": "2021-11-18T02:44:36.095933",
     "status": "completed"
    },
    "tags": []
   },
   "outputs": [
    {
     "data": {
      "text/plain": [
       "<AxesSubplot:>"
      ]
     },
     "execution_count": 22,
     "metadata": {},
     "output_type": "execute_result"
    },
    {
     "data": {
      "image/png": "[encoded data removed]",
      "text/plain": [
       "<Figure size 432x288 with 1 Axes>"
      ]
     },
     "metadata": {
      "needs_background": "light"
     },
     "output_type": "display_data"
    }
   ],
   "source": [
    "data[\"posttest\"].hist(bins=10)"
   ]
  },
  {
   "cell_type": "markdown",
   "id": "e3a22def",
   "metadata": {
    "papermill": {
     "duration": 0.064128,
     "end_time": "2021-11-18T02:44:36.568312",
     "exception": false,
     "start_time": "2021-11-18T02:44:36.504184",
     "status": "completed"
    },
    "tags": []
   },
   "source": [
    "**Analysis**  \n",
    "The students performed better in post tests than the pre tests with no student scoring below 30 in the post test."
   ]
  },
  {
   "cell_type": "code",
   "execution_count": 23,
   "id": "34b352d8",
   "metadata": {
    "execution": {
     "iopub.execute_input": "2021-11-18T02:44:36.703160Z",
     "iopub.status.busy": "2021-11-18T02:44:36.702467Z",
     "iopub.status.idle": "2021-11-18T02:44:37.177674Z",
     "shell.execute_reply": "2021-11-18T02:44:37.177025Z",
     "shell.execute_reply.started": "2021-11-18T02:27:39.650190Z"
    },
    "papermill": {
     "duration": 0.544148,
     "end_time": "2021-11-18T02:44:37.177846",
     "exception": false,
     "start_time": "2021-11-18T02:44:36.633698",
     "status": "completed"
    },
    "tags": []
   },
   "outputs": [
    {
     "data": {
      "text/plain": [
       "<AxesSubplot:xlabel='pretest', ylabel='posttest'>"
      ]
     },
     "execution_count": 23,
     "metadata": {},
     "output_type": "execute_result"
    },
    {
     "data": {
      "image/png": "[encoded data removed]",
      "text/plain": [
       "<Figure size 432x288 with 1 Axes>"
      ]
     },
     "metadata": {
      "needs_background": "light"
     },
     "output_type": "display_data"
    }
   ],
   "source": [
    "sns.regplot(x=\"pretest\", y=\"posttest\", data=data)"
   ]
  },
  {
   "cell_type": "code",
   "execution_count": 24,
   "id": "9b7cae97",
   "metadata": {
    "execution": {
     "iopub.execute_input": "2021-11-18T02:44:37.313842Z",
     "iopub.status.busy": "2021-11-18T02:44:37.313053Z",
     "iopub.status.idle": "2021-11-18T02:44:37.778120Z",
     "shell.execute_reply": "2021-11-18T02:44:37.778629Z",
     "shell.execute_reply.started": "2021-11-18T02:27:40.129381Z"
    },
    "papermill": {
     "duration": 0.534761,
     "end_time": "2021-11-18T02:44:37.778851",
     "exception": false,
     "start_time": "2021-11-18T02:44:37.244090",
     "status": "completed"
    },
    "scrolled": true,
    "tags": []
   },
   "outputs": [
    {
     "data": {
      "text/plain": [
       "<AxesSubplot:xlabel='n_student', ylabel='posttest'>"
      ]
     },
     "execution_count": 24,
     "metadata": {},
     "output_type": "execute_result"
    },
    {
     "data": {
      "image/png": "[encoded data removed]",
      "text/plain": [
       "<Figure size 432x288 with 1 Axes>"
      ]
     },
     "metadata": {
      "needs_background": "light"
     },
     "output_type": "display_data"
    }
   ],
   "source": [
    "sns.regplot(x=\"n_student\", y=\"posttest\", data=data)"
   ]
  },
  {
   "cell_type": "markdown",
   "id": "fd6ad66c",
   "metadata": {
    "papermill": {
     "duration": 0.073179,
     "end_time": "2021-11-18T02:44:37.919733",
     "exception": false,
     "start_time": "2021-11-18T02:44:37.846554",
     "status": "completed"
    },
    "tags": []
   },
   "source": []
  },
  {
   "cell_type": "code",
   "execution_count": 25,
   "id": "1f0cd9f6",
   "metadata": {
    "execution": {
     "iopub.execute_input": "2021-11-18T02:44:38.062339Z",
     "iopub.status.busy": "2021-11-18T02:44:38.061261Z",
     "iopub.status.idle": "2021-11-18T02:44:38.384069Z",
     "shell.execute_reply": "2021-11-18T02:44:38.383408Z",
     "shell.execute_reply.started": "2021-11-18T02:27:40.604523Z"
    },
    "papermill": {
     "duration": 0.397169,
     "end_time": "2021-11-18T02:44:38.384226",
     "exception": false,
     "start_time": "2021-11-18T02:44:37.987057",
     "status": "completed"
    },
    "scrolled": true,
    "tags": []
   },
   "outputs": [
    {
     "data": {
      "text/plain": [
       "F_onewayResult(statistic=284.64490998276796, pvalue=2.7767850260221484e-110)"
      ]
     },
     "execution_count": 25,
     "metadata": {},
     "output_type": "execute_result"
    },
    {
     "data": {
      "image/png": "[encoded data removed]",
      "text/plain": [
       "<Figure size 432x288 with 1 Axes>"
      ]
     },
     "metadata": {
      "needs_background": "light"
     },
     "output_type": "display_data"
    }
   ],
   "source": [
    "\n",
    "sns.pointplot(x=\"school_setting\", y=\"posttest\", data=data)\n",
    "stats.f_oneway(data[data['school_setting'] == 'Urban' ][\"posttest\"], data[data['school_setting'] == 'Suburban' ][\"posttest\"],\n",
    "              data[data['school_setting'] == 'Rural' ][\"posttest\"])"
   ]
  },
  {
   "cell_type": "markdown",
   "id": "7933604a",
   "metadata": {
    "papermill": {
     "duration": 0.068168,
     "end_time": "2021-11-18T02:44:38.520649",
     "exception": false,
     "start_time": "2021-11-18T02:44:38.452481",
     "status": "completed"
    },
    "tags": []
   },
   "source": [
    "**Analysis**  \n",
    "The school setting significantly affects the score of students with suburban students having the best scores and urban having the worst."
   ]
  },
  {
   "cell_type": "code",
   "execution_count": 26,
   "id": "0e842f99",
   "metadata": {
    "execution": {
     "iopub.execute_input": "2021-11-18T02:44:38.661709Z",
     "iopub.status.busy": "2021-11-18T02:44:38.661016Z",
     "iopub.status.idle": "2021-11-18T02:44:38.945252Z",
     "shell.execute_reply": "2021-11-18T02:44:38.944293Z",
     "shell.execute_reply.started": "2021-11-18T02:27:40.939936Z"
    },
    "papermill": {
     "duration": 0.356031,
     "end_time": "2021-11-18T02:44:38.945440",
     "exception": false,
     "start_time": "2021-11-18T02:44:38.589409",
     "status": "completed"
    },
    "tags": []
   },
   "outputs": [
    {
     "data": {
      "text/plain": [
       "F_onewayResult(statistic=346.3698207318108, pvalue=9.375658077323967e-72)"
      ]
     },
     "execution_count": 26,
     "metadata": {},
     "output_type": "execute_result"
    },
    {
     "data": {
      "image/png": "[encoded data removed]",
      "text/plain": [
       "<Figure size 432x288 with 1 Axes>"
      ]
     },
     "metadata": {
      "needs_background": "light"
     },
     "output_type": "display_data"
    }
   ],
   "source": [
    "sns.pointplot(x=\"school_type\", y=\"posttest\", data=data, color='r')\n",
    "stats.f_oneway(data[data['school_type'] == 'Public' ][\"posttest\"],\n",
    "              data[data['school_type'] == 'Non-public' ][\"posttest\"])"
   ]
  },
  {
   "cell_type": "markdown",
   "id": "5ccee7f9",
   "metadata": {
    "papermill": {
     "duration": 0.069403,
     "end_time": "2021-11-18T02:44:39.085480",
     "exception": false,
     "start_time": "2021-11-18T02:44:39.016077",
     "status": "completed"
    },
    "tags": []
   },
   "source": [
    "**Analysis**  \n",
    "School type significantly affects the test scores of the students with public school students performing the worst."
   ]
  },
  {
   "cell_type": "code",
   "execution_count": 27,
   "id": "b1b53201",
   "metadata": {
    "execution": {
     "iopub.execute_input": "2021-11-18T02:44:39.235088Z",
     "iopub.status.busy": "2021-11-18T02:44:39.234264Z",
     "iopub.status.idle": "2021-11-18T02:44:39.506627Z",
     "shell.execute_reply": "2021-11-18T02:44:39.506020Z",
     "shell.execute_reply.started": "2021-11-18T02:27:41.229546Z"
    },
    "papermill": {
     "duration": 0.351091,
     "end_time": "2021-11-18T02:44:39.506796",
     "exception": false,
     "start_time": "2021-11-18T02:44:39.155705",
     "status": "completed"
    },
    "scrolled": true,
    "tags": []
   },
   "outputs": [
    {
     "data": {
      "text/plain": [
       "F_onewayResult(statistic=231.25681659751112, pvalue=1.1640893397300103e-49)"
      ]
     },
     "execution_count": 27,
     "metadata": {},
     "output_type": "execute_result"
    },
    {
     "data": {
      "image/png": "[encoded data removed]",
      "text/plain": [
       "<Figure size 432x288 with 1 Axes>"
      ]
     },
     "metadata": {
      "needs_background": "light"
     },
     "output_type": "display_data"
    }
   ],
   "source": [
    "sns.pointplot(x=\"teaching_method\", y=\"posttest\", data=data, color='r')\n",
    "stats.f_oneway(data[data['teaching_method'] == 'Standard' ][\"posttest\"],\n",
    "              data[data['teaching_method'] == 'Experimental' ][\"posttest\"])"
   ]
  },
  {
   "cell_type": "markdown",
   "id": "d1c618d2",
   "metadata": {
    "papermill": {
     "duration": 0.072131,
     "end_time": "2021-11-18T02:44:39.652235",
     "exception": false,
     "start_time": "2021-11-18T02:44:39.580104",
     "status": "completed"
    },
    "tags": []
   },
   "source": [
    "**Analysis**  \n",
    "Teaching methods significantly affects the test scores of the students. Students taught using experimental methods performed better on average."
   ]
  },
  {
   "cell_type": "code",
   "execution_count": 28,
   "id": "04d5f333",
   "metadata": {
    "execution": {
     "iopub.execute_input": "2021-11-18T02:44:39.802752Z",
     "iopub.status.busy": "2021-11-18T02:44:39.797296Z",
     "iopub.status.idle": "2021-11-18T02:44:40.089305Z",
     "shell.execute_reply": "2021-11-18T02:44:40.088519Z",
     "shell.execute_reply.started": "2021-11-18T02:27:41.507618Z"
    },
    "papermill": {
     "duration": 0.366032,
     "end_time": "2021-11-18T02:44:40.089508",
     "exception": false,
     "start_time": "2021-11-18T02:44:39.723476",
     "status": "completed"
    },
    "tags": []
   },
   "outputs": [
    {
     "data": {
      "text/plain": [
       "F_onewayResult(statistic=0.10151953331754493, pvalue=0.7500449231811932)"
      ]
     },
     "execution_count": 28,
     "metadata": {},
     "output_type": "execute_result"
    },
    {
     "data": {
      "image/png": "[encoded data removed]",
      "text/plain": [
       "<Figure size 432x288 with 1 Axes>"
      ]
     },
     "metadata": {
      "needs_background": "light"
     },
     "output_type": "display_data"
    }
   ],
   "source": [
    "sns.pointplot(x=\"gender\", y=\"posttest\", data=data, color='r')\n",
    "stats.f_oneway(data[data['gender'] == 'Female' ][\"posttest\"], \n",
    "               data[data['gender'] == 'Male' ][\"posttest\"])"
   ]
  },
  {
   "cell_type": "markdown",
   "id": "77428262",
   "metadata": {
    "papermill": {
     "duration": 0.08744,
     "end_time": "2021-11-18T02:44:40.265418",
     "exception": false,
     "start_time": "2021-11-18T02:44:40.177978",
     "status": "completed"
    },
    "tags": []
   },
   "source": [
    "**Analysis**  \n",
    "Gender is not a significant factor affecting the scores of student. The average scores of both genders are almost the same."
   ]
  },
  {
   "cell_type": "code",
   "execution_count": 29,
   "id": "5a3055e5",
   "metadata": {
    "execution": {
     "iopub.execute_input": "2021-11-18T02:44:40.450706Z",
     "iopub.status.busy": "2021-11-18T02:44:40.449940Z",
     "iopub.status.idle": "2021-11-18T02:44:40.755591Z",
     "shell.execute_reply": "2021-11-18T02:44:40.756181Z",
     "shell.execute_reply.started": "2021-11-18T02:27:41.795739Z"
    },
    "papermill": {
     "duration": 0.402616,
     "end_time": "2021-11-18T02:44:40.756404",
     "exception": false,
     "start_time": "2021-11-18T02:44:40.353788",
     "status": "completed"
    },
    "tags": []
   },
   "outputs": [
    {
     "data": {
      "text/plain": [
       "F_onewayResult(statistic=1188.5615435419354, pvalue=2.2616015547519054e-207)"
      ]
     },
     "execution_count": 29,
     "metadata": {},
     "output_type": "execute_result"
    },
    {
     "data": {
      "image/png": "[encoded data removed]",
      "text/plain": [
       "<Figure size 432x288 with 1 Axes>"
      ]
     },
     "metadata": {
      "needs_background": "light"
     },
     "output_type": "display_data"
    }
   ],
   "source": [
    "sns.pointplot(x=\"lunch\", y=\"posttest\", data=data, color='r')\n",
    "stats.f_oneway(data[data['lunch'] == 'Does not qualify' ][\"posttest\"], \n",
    "               data[data['lunch'] == 'Qualifies for reduced/free lunch' ][\"posttest\"])"
   ]
  },
  {
   "cell_type": "markdown",
   "id": "242540fd",
   "metadata": {
    "papermill": {
     "duration": 0.077297,
     "end_time": "2021-11-18T02:44:40.908441",
     "exception": false,
     "start_time": "2021-11-18T02:44:40.831144",
     "status": "completed"
    },
    "tags": []
   },
   "source": [
    "**Analysis**  \n",
    "Lunch significantly affects the test scores of the students. Students that did not qualify for lunch  performed better on average."
   ]
  },
  {
   "cell_type": "code",
   "execution_count": 30,
   "id": "d182564d",
   "metadata": {
    "execution": {
     "iopub.execute_input": "2021-11-18T02:44:41.066059Z",
     "iopub.status.busy": "2021-11-18T02:44:41.065238Z",
     "iopub.status.idle": "2021-11-18T02:44:41.068140Z",
     "shell.execute_reply": "2021-11-18T02:44:41.067635Z",
     "shell.execute_reply.started": "2021-11-18T02:27:42.468636Z"
    },
    "papermill": {
     "duration": 0.085305,
     "end_time": "2021-11-18T02:44:41.068305",
     "exception": false,
     "start_time": "2021-11-18T02:44:40.983000",
     "status": "completed"
    },
    "tags": []
   },
   "outputs": [],
   "source": [
    "abv_avg = data[data[\"posttest\"]>data[\"posttest\"].mean()]\n",
    "bel_avg = data[data[\"posttest\"]<=data[\"posttest\"].mean()]"
   ]
  },
  {
   "cell_type": "code",
   "execution_count": 31,
   "id": "6d7144d3",
   "metadata": {
    "execution": {
     "iopub.execute_input": "2021-11-18T02:44:41.222826Z",
     "iopub.status.busy": "2021-11-18T02:44:41.222160Z",
     "iopub.status.idle": "2021-11-18T02:44:41.235683Z",
     "shell.execute_reply": "2021-11-18T02:44:41.236195Z",
     "shell.execute_reply.started": "2021-11-18T02:27:42.692969Z"
    },
    "papermill": {
     "duration": 0.094991,
     "end_time": "2021-11-18T02:44:41.236413",
     "exception": false,
     "start_time": "2021-11-18T02:44:41.141422",
     "status": "completed"
    },
    "tags": []
   },
   "outputs": [
    {
     "name": "stdout",
     "output_type": "stream",
     "text": [
      "school\n",
      "ANKYI     33\n",
      "CCAAW    108\n",
      "CIMBB     69\n",
      "CUQAM     37\n",
      "DNQDD     58\n",
      "FBUMG     46\n",
      "GJJHK     39\n",
      "GOKXL     37\n",
      "IDGFP     94\n",
      "LAYPA     52\n",
      "OJOBU     46\n",
      "QOQTS     44\n",
      "UAGPU     69\n",
      "UKPGS    128\n",
      "UUUQX     82\n",
      "VHDHF     30\n",
      "VKWQH     40\n",
      "ZMNYA     68\n",
      "Name: lunch, dtype: int64\n"
     ]
    },
    {
     "data": {
      "text/plain": [
       "school\n",
       "ANKYI      8\n",
       "CCAAW      1\n",
       "CIMBB      5\n",
       "CUQAM     70\n",
       "DNQDD     64\n",
       "GJJHK     79\n",
       "GOKXL     27\n",
       "GOOBU    158\n",
       "KFZMY     52\n",
       "KZKKE    111\n",
       "LAYPA      5\n",
       "OJOBU     35\n",
       "QOQTS    105\n",
       "UAGPU     18\n",
       "UUUQX      2\n",
       "VHDHF     21\n",
       "VKWQH     60\n",
       "VVTVA    114\n",
       "ZMNYA      1\n",
       "ZOWMK    117\n",
       "Name: lunch, dtype: int64"
      ]
     },
     "execution_count": 31,
     "metadata": {},
     "output_type": "execute_result"
    }
   ],
   "source": [
    "print(abv_avg.groupby('school').count()['lunch'])\n",
    "bel_avg.groupby('school').count()['lunch']"
   ]
  },
  {
   "cell_type": "markdown",
   "id": "19776600",
   "metadata": {
    "papermill": {
     "duration": 0.073934,
     "end_time": "2021-11-18T02:44:41.386186",
     "exception": false,
     "start_time": "2021-11-18T02:44:41.312252",
     "status": "completed"
    },
    "tags": []
   },
   "source": [
    "**Analysis**\n",
    "CCAAW, IDGFP and UKPGS have the most students performing above average.  \n",
    "UKPGS and IDGFP students all performed above average with CCAAW have a student performing below average.  \n",
    "  \n",
    "On the lower end, GOOBU, QOQTS, VVTVA, and ZOWMK have the most students performing below average"
   ]
  },
  {
   "cell_type": "code",
   "execution_count": 32,
   "id": "38a771e8",
   "metadata": {
    "execution": {
     "iopub.execute_input": "2021-11-18T02:44:41.546746Z",
     "iopub.status.busy": "2021-11-18T02:44:41.545021Z",
     "iopub.status.idle": "2021-11-18T02:44:41.557312Z",
     "shell.execute_reply": "2021-11-18T02:44:41.558002Z",
     "shell.execute_reply.started": "2021-11-18T02:27:43.659940Z"
    },
    "papermill": {
     "duration": 0.097556,
     "end_time": "2021-11-18T02:44:41.558199",
     "exception": false,
     "start_time": "2021-11-18T02:44:41.460643",
     "status": "completed"
    },
    "tags": []
   },
   "outputs": [
    {
     "name": "stdout",
     "output_type": "stream",
     "text": [
      "128\n",
      "        n_student     pretest    posttest\n",
      "count  128.000000  128.000000  128.000000\n",
      "mean    21.593750   78.453125   91.164062\n",
      "std      2.359225    5.152569    3.415521\n",
      "min     18.000000   67.000000   82.000000\n",
      "25%     19.000000   75.000000   89.000000\n",
      "50%     22.000000   78.000000   91.000000\n",
      "75%     23.000000   82.250000   93.000000\n",
      "max     25.000000   91.000000   99.000000\n"
     ]
    }
   ],
   "source": [
    "print(data[data[\"school\"]==\"UKPGS\"].shape[0])\n",
    "print(data[data[\"school\"]==\"UKPGS\"].describe())"
   ]
  },
  {
   "cell_type": "code",
   "execution_count": 33,
   "id": "7fae0936",
   "metadata": {
    "execution": {
     "iopub.execute_input": "2021-11-18T02:44:41.711692Z",
     "iopub.status.busy": "2021-11-18T02:44:41.711038Z",
     "iopub.status.idle": "2021-11-18T02:44:41.729779Z",
     "shell.execute_reply": "2021-11-18T02:44:41.730294Z",
     "shell.execute_reply.started": "2021-11-18T02:27:43.921569Z"
    },
    "papermill": {
     "duration": 0.096961,
     "end_time": "2021-11-18T02:44:41.730516",
     "exception": false,
     "start_time": "2021-11-18T02:44:41.633555",
     "status": "completed"
    },
    "tags": []
   },
   "outputs": [
    {
     "data": {
      "text/html": [
       "<div>\n",
       "<style scoped>\n",
       "    .dataframe tbody tr th:only-of-type {\n",
       "        vertical-align: middle;\n",
       "    }\n",
       "\n",
       "    .dataframe tbody tr th {\n",
       "        vertical-align: top;\n",
       "    }\n",
       "\n",
       "    .dataframe thead th {\n",
       "        text-align: right;\n",
       "    }\n",
       "</style>\n",
       "<table border=\"1\" class=\"dataframe\">\n",
       "  <thead>\n",
       "    <tr style=\"text-align: right;\">\n",
       "      <th></th>\n",
       "      <th>school</th>\n",
       "      <th>school_setting</th>\n",
       "      <th>school_type</th>\n",
       "      <th>classroom</th>\n",
       "      <th>teaching_method</th>\n",
       "      <th>n_student</th>\n",
       "      <th>student_id</th>\n",
       "      <th>gender</th>\n",
       "      <th>lunch</th>\n",
       "      <th>pretest</th>\n",
       "      <th>posttest</th>\n",
       "    </tr>\n",
       "  </thead>\n",
       "  <tbody>\n",
       "    <tr>\n",
       "      <th>902</th>\n",
       "      <td>IDGFP</td>\n",
       "      <td>Urban</td>\n",
       "      <td>Non-public</td>\n",
       "      <td>P2A</td>\n",
       "      <td>Experimental</td>\n",
       "      <td>17.0</td>\n",
       "      <td>BYVSP</td>\n",
       "      <td>Male</td>\n",
       "      <td>Does not qualify</td>\n",
       "      <td>86.0</td>\n",
       "      <td>100.0</td>\n",
       "    </tr>\n",
       "    <tr>\n",
       "      <th>903</th>\n",
       "      <td>IDGFP</td>\n",
       "      <td>Urban</td>\n",
       "      <td>Non-public</td>\n",
       "      <td>P2A</td>\n",
       "      <td>Experimental</td>\n",
       "      <td>17.0</td>\n",
       "      <td>D9SR6</td>\n",
       "      <td>Female</td>\n",
       "      <td>Does not qualify</td>\n",
       "      <td>83.0</td>\n",
       "      <td>100.0</td>\n",
       "    </tr>\n",
       "    <tr>\n",
       "      <th>905</th>\n",
       "      <td>IDGFP</td>\n",
       "      <td>Urban</td>\n",
       "      <td>Non-public</td>\n",
       "      <td>P2A</td>\n",
       "      <td>Experimental</td>\n",
       "      <td>17.0</td>\n",
       "      <td>K5955</td>\n",
       "      <td>Male</td>\n",
       "      <td>Does not qualify</td>\n",
       "      <td>85.0</td>\n",
       "      <td>100.0</td>\n",
       "    </tr>\n",
       "    <tr>\n",
       "      <th>907</th>\n",
       "      <td>IDGFP</td>\n",
       "      <td>Urban</td>\n",
       "      <td>Non-public</td>\n",
       "      <td>P2A</td>\n",
       "      <td>Experimental</td>\n",
       "      <td>17.0</td>\n",
       "      <td>P32P9</td>\n",
       "      <td>Male</td>\n",
       "      <td>Does not qualify</td>\n",
       "      <td>83.0</td>\n",
       "      <td>100.0</td>\n",
       "    </tr>\n",
       "    <tr>\n",
       "      <th>908</th>\n",
       "      <td>IDGFP</td>\n",
       "      <td>Urban</td>\n",
       "      <td>Non-public</td>\n",
       "      <td>P2A</td>\n",
       "      <td>Experimental</td>\n",
       "      <td>17.0</td>\n",
       "      <td>QXTHU</td>\n",
       "      <td>Male</td>\n",
       "      <td>Does not qualify</td>\n",
       "      <td>93.0</td>\n",
       "      <td>100.0</td>\n",
       "    </tr>\n",
       "    <tr>\n",
       "      <th>909</th>\n",
       "      <td>IDGFP</td>\n",
       "      <td>Urban</td>\n",
       "      <td>Non-public</td>\n",
       "      <td>P2A</td>\n",
       "      <td>Experimental</td>\n",
       "      <td>17.0</td>\n",
       "      <td>RG9R4</td>\n",
       "      <td>Male</td>\n",
       "      <td>Does not qualify</td>\n",
       "      <td>83.0</td>\n",
       "      <td>100.0</td>\n",
       "    </tr>\n",
       "    <tr>\n",
       "      <th>911</th>\n",
       "      <td>IDGFP</td>\n",
       "      <td>Urban</td>\n",
       "      <td>Non-public</td>\n",
       "      <td>P2A</td>\n",
       "      <td>Experimental</td>\n",
       "      <td>17.0</td>\n",
       "      <td>SH2DM</td>\n",
       "      <td>Male</td>\n",
       "      <td>Does not qualify</td>\n",
       "      <td>88.0</td>\n",
       "      <td>100.0</td>\n",
       "    </tr>\n",
       "    <tr>\n",
       "      <th>915</th>\n",
       "      <td>IDGFP</td>\n",
       "      <td>Urban</td>\n",
       "      <td>Non-public</td>\n",
       "      <td>P2A</td>\n",
       "      <td>Experimental</td>\n",
       "      <td>17.0</td>\n",
       "      <td>W4KYQ</td>\n",
       "      <td>Female</td>\n",
       "      <td>Does not qualify</td>\n",
       "      <td>81.0</td>\n",
       "      <td>100.0</td>\n",
       "    </tr>\n",
       "  </tbody>\n",
       "</table>\n",
       "</div>"
      ],
      "text/plain": [
       "    school school_setting school_type classroom teaching_method  n_student  \\\n",
       "902  IDGFP          Urban  Non-public       P2A    Experimental       17.0   \n",
       "903  IDGFP          Urban  Non-public       P2A    Experimental       17.0   \n",
       "905  IDGFP          Urban  Non-public       P2A    Experimental       17.0   \n",
       "907  IDGFP          Urban  Non-public       P2A    Experimental       17.0   \n",
       "908  IDGFP          Urban  Non-public       P2A    Experimental       17.0   \n",
       "909  IDGFP          Urban  Non-public       P2A    Experimental       17.0   \n",
       "911  IDGFP          Urban  Non-public       P2A    Experimental       17.0   \n",
       "915  IDGFP          Urban  Non-public       P2A    Experimental       17.0   \n",
       "\n",
       "    student_id  gender             lunch  pretest  posttest  \n",
       "902      BYVSP    Male  Does not qualify     86.0     100.0  \n",
       "903      D9SR6  Female  Does not qualify     83.0     100.0  \n",
       "905      K5955    Male  Does not qualify     85.0     100.0  \n",
       "907      P32P9    Male  Does not qualify     83.0     100.0  \n",
       "908      QXTHU    Male  Does not qualify     93.0     100.0  \n",
       "909      RG9R4    Male  Does not qualify     83.0     100.0  \n",
       "911      SH2DM    Male  Does not qualify     88.0     100.0  \n",
       "915      W4KYQ  Female  Does not qualify     81.0     100.0  "
      ]
     },
     "execution_count": 33,
     "metadata": {},
     "output_type": "execute_result"
    }
   ],
   "source": [
    "data[data[\"posttest\"]>99]"
   ]
  },
  {
   "cell_type": "markdown",
   "id": "8d110d85",
   "metadata": {
    "papermill": {
     "duration": 0.083591,
     "end_time": "2021-11-18T02:44:41.901700",
     "exception": false,
     "start_time": "2021-11-18T02:44:41.818109",
     "status": "completed"
    },
    "tags": []
   },
   "source": [
    "**Analysis**  \n",
    "Every student that score 100 in post tests where from IDGFP, class P2A, mostly males, did not qualify for lunch and where taught with experimental methods"
   ]
  },
  {
   "cell_type": "code",
   "execution_count": 34,
   "id": "5c9cb4fa",
   "metadata": {
    "execution": {
     "iopub.execute_input": "2021-11-18T02:44:42.054167Z",
     "iopub.status.busy": "2021-11-18T02:44:42.053537Z",
     "iopub.status.idle": "2021-11-18T02:44:42.072882Z",
     "shell.execute_reply": "2021-11-18T02:44:42.073427Z",
     "shell.execute_reply.started": "2021-11-18T02:27:44.567376Z"
    },
    "papermill": {
     "duration": 0.097361,
     "end_time": "2021-11-18T02:44:42.073625",
     "exception": false,
     "start_time": "2021-11-18T02:44:41.976264",
     "status": "completed"
    },
    "tags": []
   },
   "outputs": [
    {
     "data": {
      "text/html": [
       "<div>\n",
       "<style scoped>\n",
       "    .dataframe tbody tr th:only-of-type {\n",
       "        vertical-align: middle;\n",
       "    }\n",
       "\n",
       "    .dataframe tbody tr th {\n",
       "        vertical-align: top;\n",
       "    }\n",
       "\n",
       "    .dataframe thead th {\n",
       "        text-align: right;\n",
       "    }\n",
       "</style>\n",
       "<table border=\"1\" class=\"dataframe\">\n",
       "  <thead>\n",
       "    <tr style=\"text-align: right;\">\n",
       "      <th></th>\n",
       "      <th>n_student</th>\n",
       "      <th>pretest</th>\n",
       "      <th>posttest</th>\n",
       "    </tr>\n",
       "  </thead>\n",
       "  <tbody>\n",
       "    <tr>\n",
       "      <th>count</th>\n",
       "      <td>94.000000</td>\n",
       "      <td>94.000000</td>\n",
       "      <td>94.000000</td>\n",
       "    </tr>\n",
       "    <tr>\n",
       "      <th>mean</th>\n",
       "      <td>19.063830</td>\n",
       "      <td>75.202128</td>\n",
       "      <td>87.223404</td>\n",
       "    </tr>\n",
       "    <tr>\n",
       "      <th>std</th>\n",
       "      <td>2.285101</td>\n",
       "      <td>6.024287</td>\n",
       "      <td>7.447529</td>\n",
       "    </tr>\n",
       "    <tr>\n",
       "      <th>min</th>\n",
       "      <td>17.000000</td>\n",
       "      <td>63.000000</td>\n",
       "      <td>74.000000</td>\n",
       "    </tr>\n",
       "    <tr>\n",
       "      <th>25%</th>\n",
       "      <td>17.000000</td>\n",
       "      <td>71.000000</td>\n",
       "      <td>81.000000</td>\n",
       "    </tr>\n",
       "    <tr>\n",
       "      <th>50%</th>\n",
       "      <td>17.000000</td>\n",
       "      <td>74.000000</td>\n",
       "      <td>86.000000</td>\n",
       "    </tr>\n",
       "    <tr>\n",
       "      <th>75%</th>\n",
       "      <td>21.000000</td>\n",
       "      <td>78.000000</td>\n",
       "      <td>93.750000</td>\n",
       "    </tr>\n",
       "    <tr>\n",
       "      <th>max</th>\n",
       "      <td>22.000000</td>\n",
       "      <td>93.000000</td>\n",
       "      <td>100.000000</td>\n",
       "    </tr>\n",
       "  </tbody>\n",
       "</table>\n",
       "</div>"
      ],
      "text/plain": [
       "       n_student    pretest    posttest\n",
       "count  94.000000  94.000000   94.000000\n",
       "mean   19.063830  75.202128   87.223404\n",
       "std     2.285101   6.024287    7.447529\n",
       "min    17.000000  63.000000   74.000000\n",
       "25%    17.000000  71.000000   81.000000\n",
       "50%    17.000000  74.000000   86.000000\n",
       "75%    21.000000  78.000000   93.750000\n",
       "max    22.000000  93.000000  100.000000"
      ]
     },
     "execution_count": 34,
     "metadata": {},
     "output_type": "execute_result"
    }
   ],
   "source": [
    "data[data[\"school\"]==\"IDGFP\"].describe()"
   ]
  },
  {
   "cell_type": "code",
   "execution_count": 35,
   "id": "72d852c5",
   "metadata": {
    "execution": {
     "iopub.execute_input": "2021-11-18T02:44:42.228558Z",
     "iopub.status.busy": "2021-11-18T02:44:42.227848Z",
     "iopub.status.idle": "2021-11-18T02:44:42.246017Z",
     "shell.execute_reply": "2021-11-18T02:44:42.246760Z",
     "shell.execute_reply.started": "2021-11-18T02:27:44.929231Z"
    },
    "papermill": {
     "duration": 0.097005,
     "end_time": "2021-11-18T02:44:42.247014",
     "exception": false,
     "start_time": "2021-11-18T02:44:42.150009",
     "status": "completed"
    },
    "tags": []
   },
   "outputs": [
    {
     "name": "stdout",
     "output_type": "stream",
     "text": [
      "school_setting\n",
      "Rural       124\n",
      "Suburban     22\n",
      "Urban       360\n",
      "Name: n_student, dtype: int64 \n",
      "\n",
      "\n",
      "teaching_method\n",
      "Experimental    111\n",
      "Standard        395\n",
      "Name: n_student, dtype: int64 \n",
      "\n",
      "\n",
      "school\n",
      "DNQDD      6\n",
      "GJJHK     16\n",
      "GOKXL     12\n",
      "GOOBU    124\n",
      "KFZMY     29\n",
      "KZKKE     89\n",
      "OJOBU      5\n",
      "QOQTS      5\n",
      "VHDHF      2\n",
      "VKWQH     16\n",
      "VVTVA    112\n",
      "ZOWMK     90\n",
      "Name: n_student, dtype: int64 \n",
      "\n",
      "\n",
      "lunch\n",
      "Does not qualify                     44\n",
      "Qualifies for reduced/free lunch    462\n",
      "Name: n_student, dtype: int64 \n",
      "\n",
      "\n",
      "gender\n",
      "Female    258\n",
      "Male      248\n",
      "Name: n_student, dtype: int64 \n",
      "\n",
      "\n",
      "school_type\n",
      "Non-public     31\n",
      "Public        475\n",
      "Name: n_student, dtype: int64 \n",
      "\n",
      "\n"
     ]
    }
   ],
   "source": [
    "lowests = data[data[\"posttest\"]<56] # 25%\n",
    "print(lowests.groupby(\"school_setting\")[\"n_student\"].count(), \"\\n\\n\")\n",
    "print(lowests.groupby(\"teaching_method\")[\"n_student\"].count(), \"\\n\\n\")\n",
    "print(lowests.groupby(\"school\")[\"n_student\"].count(), \"\\n\\n\")\n",
    "print(lowests.groupby(\"lunch\")[\"n_student\"].count(), \"\\n\\n\")\n",
    "print(lowests.groupby(\"gender\")[\"n_student\"].count(), \"\\n\\n\")\n",
    "print(lowests.groupby(\"school_type\")[\"n_student\"].count(), \"\\n\\n\")"
   ]
  },
  {
   "cell_type": "markdown",
   "id": "4f67316a",
   "metadata": {
    "papermill": {
     "duration": 0.076675,
     "end_time": "2021-11-18T02:44:42.400536",
     "exception": false,
     "start_time": "2021-11-18T02:44:42.323861",
     "status": "completed"
    },
    "tags": []
   },
   "source": [
    "**Analysis**  \n",
    "Among the students scoring in the bottom 25%:  \n",
    "They were mostly urban and rural students.  \n",
    "They were mostly taught using standard methods.  \n",
    "They mostly qualified for reduced/free lunch.  \n",
    "There was no significant difference in gender proportion.\n",
    "They were almost all from public school."
   ]
  },
  {
   "cell_type": "code",
   "execution_count": 36,
   "id": "a352e7fe",
   "metadata": {
    "execution": {
     "iopub.execute_input": "2021-11-18T02:44:42.555725Z",
     "iopub.status.busy": "2021-11-18T02:44:42.554956Z",
     "iopub.status.idle": "2021-11-18T02:44:42.559513Z",
     "shell.execute_reply": "2021-11-18T02:44:42.560053Z",
     "shell.execute_reply.started": "2021-11-18T02:27:45.887089Z"
    },
    "papermill": {
     "duration": 0.08372,
     "end_time": "2021-11-18T02:44:42.560246",
     "exception": false,
     "start_time": "2021-11-18T02:44:42.476526",
     "status": "completed"
    },
    "tags": []
   },
   "outputs": [],
   "source": [
    "s5 = data[data[\"posttest\"]>77] #75%"
   ]
  },
  {
   "cell_type": "code",
   "execution_count": 37,
   "id": "2b884570",
   "metadata": {
    "execution": {
     "iopub.execute_input": "2021-11-18T02:44:42.716575Z",
     "iopub.status.busy": "2021-11-18T02:44:42.715861Z",
     "iopub.status.idle": "2021-11-18T02:44:42.722286Z",
     "shell.execute_reply": "2021-11-18T02:44:42.721540Z",
     "shell.execute_reply.started": "2021-11-18T02:27:46.505049Z"
    },
    "papermill": {
     "duration": 0.086551,
     "end_time": "2021-11-18T02:44:42.722526",
     "exception": false,
     "start_time": "2021-11-18T02:44:42.635975",
     "status": "completed"
    },
    "tags": []
   },
   "outputs": [
    {
     "name": "stdout",
     "output_type": "stream",
     "text": [
      "(531, 11)\n"
     ]
    }
   ],
   "source": [
    "print(s5.shape)"
   ]
  },
  {
   "cell_type": "code",
   "execution_count": 38,
   "id": "a18ff485",
   "metadata": {
    "execution": {
     "iopub.execute_input": "2021-11-18T02:44:42.879541Z",
     "iopub.status.busy": "2021-11-18T02:44:42.878840Z",
     "iopub.status.idle": "2021-11-18T02:44:42.890051Z",
     "shell.execute_reply": "2021-11-18T02:44:42.890683Z",
     "shell.execute_reply.started": "2021-11-18T02:27:47.010746Z"
    },
    "papermill": {
     "duration": 0.091468,
     "end_time": "2021-11-18T02:44:42.890884",
     "exception": false,
     "start_time": "2021-11-18T02:44:42.799416",
     "status": "completed"
    },
    "tags": []
   },
   "outputs": [
    {
     "data": {
      "text/plain": [
       "school\n",
       "ANKYI      2\n",
       "CCAAW     58\n",
       "CIMBB     41\n",
       "DNQDD      3\n",
       "FBUMG     28\n",
       "GJJHK     16\n",
       "IDGFP     86\n",
       "LAYPA     16\n",
       "OJOBU     12\n",
       "QOQTS     14\n",
       "UAGPU     14\n",
       "UKPGS    128\n",
       "UUUQX     53\n",
       "VKWQH     12\n",
       "ZMNYA     48\n",
       "Name: classroom, dtype: int64"
      ]
     },
     "execution_count": 38,
     "metadata": {},
     "output_type": "execute_result"
    }
   ],
   "source": [
    "s5.groupby('school').count()[\"classroom\"]"
   ]
  },
  {
   "cell_type": "code",
   "execution_count": 39,
   "id": "fc873bcd",
   "metadata": {
    "execution": {
     "iopub.execute_input": "2021-11-18T02:44:43.049951Z",
     "iopub.status.busy": "2021-11-18T02:44:43.049339Z",
     "iopub.status.idle": "2021-11-18T02:44:43.058311Z",
     "shell.execute_reply": "2021-11-18T02:44:43.058907Z",
     "shell.execute_reply.started": "2021-11-18T02:27:47.503599Z"
    },
    "papermill": {
     "duration": 0.088757,
     "end_time": "2021-11-18T02:44:43.059095",
     "exception": false,
     "start_time": "2021-11-18T02:44:42.970338",
     "status": "completed"
    },
    "tags": []
   },
   "outputs": [
    {
     "data": {
      "text/plain": [
       "teaching_method\n",
       "Experimental    322\n",
       "Standard        209\n",
       "Name: classroom, dtype: int64"
      ]
     },
     "execution_count": 39,
     "metadata": {},
     "output_type": "execute_result"
    }
   ],
   "source": [
    "s5.groupby('teaching_method').count()[\"classroom\"]"
   ]
  },
  {
   "cell_type": "markdown",
   "id": "cfdff249",
   "metadata": {
    "papermill": {
     "duration": 0.076027,
     "end_time": "2021-11-18T02:44:43.211391",
     "exception": false,
     "start_time": "2021-11-18T02:44:43.135364",
     "status": "completed"
    },
    "tags": []
   },
   "source": [
    "Top students were mostly taught using experimental methods."
   ]
  },
  {
   "cell_type": "code",
   "execution_count": 40,
   "id": "a3303295",
   "metadata": {
    "execution": {
     "iopub.execute_input": "2021-11-18T02:44:43.367514Z",
     "iopub.status.busy": "2021-11-18T02:44:43.366544Z",
     "iopub.status.idle": "2021-11-18T02:44:43.376102Z",
     "shell.execute_reply": "2021-11-18T02:44:43.376687Z",
     "shell.execute_reply.started": "2021-11-18T02:27:48.427156Z"
    },
    "papermill": {
     "duration": 0.089421,
     "end_time": "2021-11-18T02:44:43.376888",
     "exception": false,
     "start_time": "2021-11-18T02:44:43.287467",
     "status": "completed"
    },
    "tags": []
   },
   "outputs": [
    {
     "data": {
      "text/plain": [
       "school_type\n",
       "Non-public    268\n",
       "Public        263\n",
       "Name: classroom, dtype: int64"
      ]
     },
     "execution_count": 40,
     "metadata": {},
     "output_type": "execute_result"
    }
   ],
   "source": [
    "s5.groupby('school_type').count()[\"classroom\"]"
   ]
  },
  {
   "cell_type": "markdown",
   "id": "42c9345e",
   "metadata": {
    "papermill": {
     "duration": 0.076451,
     "end_time": "2021-11-18T02:44:43.531033",
     "exception": false,
     "start_time": "2021-11-18T02:44:43.454582",
     "status": "completed"
    },
    "tags": []
   },
   "source": [
    "There were no significant differences in the school type among the top students."
   ]
  },
  {
   "cell_type": "code",
   "execution_count": 41,
   "id": "539f433e",
   "metadata": {
    "execution": {
     "iopub.execute_input": "2021-11-18T02:44:43.697881Z",
     "iopub.status.busy": "2021-11-18T02:44:43.697059Z",
     "iopub.status.idle": "2021-11-18T02:44:43.706600Z",
     "shell.execute_reply": "2021-11-18T02:44:43.705894Z",
     "shell.execute_reply.started": "2021-11-18T02:27:49.373716Z"
    },
    "papermill": {
     "duration": 0.098404,
     "end_time": "2021-11-18T02:44:43.706767",
     "exception": false,
     "start_time": "2021-11-18T02:44:43.608363",
     "status": "completed"
    },
    "tags": []
   },
   "outputs": [
    {
     "data": {
      "text/plain": [
       "school_setting\n",
       "Rural        68\n",
       "Suburban    320\n",
       "Urban       143\n",
       "Name: classroom, dtype: int64"
      ]
     },
     "execution_count": 41,
     "metadata": {},
     "output_type": "execute_result"
    }
   ],
   "source": [
    "s5.groupby('school_setting').count()[\"classroom\"]"
   ]
  },
  {
   "cell_type": "markdown",
   "id": "72f22d44",
   "metadata": {
    "papermill": {
     "duration": 0.076758,
     "end_time": "2021-11-18T02:44:43.862705",
     "exception": false,
     "start_time": "2021-11-18T02:44:43.785947",
     "status": "completed"
    },
    "tags": []
   },
   "source": [
    "Suburban students were the most and rural student were the least"
   ]
  },
  {
   "cell_type": "code",
   "execution_count": 42,
   "id": "57135d82",
   "metadata": {
    "execution": {
     "iopub.execute_input": "2021-11-18T02:44:44.023887Z",
     "iopub.status.busy": "2021-11-18T02:44:44.023152Z",
     "iopub.status.idle": "2021-11-18T02:44:44.033166Z",
     "shell.execute_reply": "2021-11-18T02:44:44.033766Z",
     "shell.execute_reply.started": "2021-11-18T02:27:49.984837Z"
    },
    "papermill": {
     "duration": 0.091437,
     "end_time": "2021-11-18T02:44:44.034006",
     "exception": false,
     "start_time": "2021-11-18T02:44:43.942569",
     "status": "completed"
    },
    "tags": []
   },
   "outputs": [
    {
     "data": {
      "text/plain": [
       "lunch\n",
       "Does not qualify                    489\n",
       "Qualifies for reduced/free lunch     42\n",
       "Name: classroom, dtype: int64"
      ]
     },
     "execution_count": 42,
     "metadata": {},
     "output_type": "execute_result"
    }
   ],
   "source": [
    "s5.groupby('lunch').count()[\"classroom\"]"
   ]
  },
  {
   "cell_type": "markdown",
   "id": "fb877b95",
   "metadata": {
    "papermill": {
     "duration": 0.077303,
     "end_time": "2021-11-18T02:44:44.189683",
     "exception": false,
     "start_time": "2021-11-18T02:44:44.112380",
     "status": "completed"
    },
    "tags": []
   },
   "source": [
    "# Feature Engineering, Data Preparation And Model training"
   ]
  },
  {
   "cell_type": "code",
   "execution_count": 43,
   "id": "e66c9dbf",
   "metadata": {
    "execution": {
     "iopub.execute_input": "2021-11-18T02:44:44.348402Z",
     "iopub.status.busy": "2021-11-18T02:44:44.347712Z",
     "iopub.status.idle": "2021-11-18T02:44:44.351928Z",
     "shell.execute_reply": "2021-11-18T02:44:44.352403Z",
     "shell.execute_reply.started": "2021-11-18T02:29:17.152249Z"
    },
    "papermill": {
     "duration": 0.08495,
     "end_time": "2021-11-18T02:44:44.352600",
     "exception": false,
     "start_time": "2021-11-18T02:44:44.267650",
     "status": "completed"
    },
    "tags": []
   },
   "outputs": [],
   "source": [
    "data2 = data.copy()\n",
    "fields = [\"school\", \"school_setting\", \"school_type\", \"teaching_method\", \"n_student\", \"lunch\"]"
   ]
  },
  {
   "cell_type": "code",
   "execution_count": 44,
   "id": "30645df6",
   "metadata": {
    "execution": {
     "iopub.execute_input": "2021-11-18T02:44:44.510566Z",
     "iopub.status.busy": "2021-11-18T02:44:44.509853Z",
     "iopub.status.idle": "2021-11-18T02:44:44.522430Z",
     "shell.execute_reply": "2021-11-18T02:44:44.522960Z",
     "shell.execute_reply.started": "2021-11-18T02:29:22.959399Z"
    },
    "papermill": {
     "duration": 0.093349,
     "end_time": "2021-11-18T02:44:44.523200",
     "exception": false,
     "start_time": "2021-11-18T02:44:44.429851",
     "status": "completed"
    },
    "tags": []
   },
   "outputs": [],
   "source": [
    "from sklearn.preprocessing import LabelEncoder\n",
    "for i in fields:\n",
    "    enc = LabelEncoder()\n",
    "    data2[i] = enc.fit_transform(data2[i])"
   ]
  },
  {
   "cell_type": "code",
   "execution_count": 45,
   "id": "813ca142",
   "metadata": {
    "execution": {
     "iopub.execute_input": "2021-11-18T02:44:44.686282Z",
     "iopub.status.busy": "2021-11-18T02:44:44.685293Z",
     "iopub.status.idle": "2021-11-18T02:44:44.691115Z",
     "shell.execute_reply": "2021-11-18T02:44:44.691776Z",
     "shell.execute_reply.started": "2021-11-18T02:29:23.250729Z"
    },
    "papermill": {
     "duration": 0.088318,
     "end_time": "2021-11-18T02:44:44.691964",
     "exception": false,
     "start_time": "2021-11-18T02:44:44.603646",
     "status": "completed"
    },
    "scrolled": true,
    "tags": []
   },
   "outputs": [],
   "source": [
    "data2 = data2.drop(columns=[\"classroom\", \"student_id\", \"gender\"])"
   ]
  },
  {
   "cell_type": "markdown",
   "id": "e3e233de",
   "metadata": {
    "papermill": {
     "duration": 0.076628,
     "end_time": "2021-11-18T02:44:44.847593",
     "exception": false,
     "start_time": "2021-11-18T02:44:44.770965",
     "status": "completed"
    },
    "tags": []
   },
   "source": [
    "**Drop columns that are not needed.**"
   ]
  },
  {
   "cell_type": "code",
   "execution_count": 46,
   "id": "840eb75d",
   "metadata": {
    "execution": {
     "iopub.execute_input": "2021-11-18T02:44:45.009065Z",
     "iopub.status.busy": "2021-11-18T02:44:45.008061Z",
     "iopub.status.idle": "2021-11-18T02:44:45.025738Z",
     "shell.execute_reply": "2021-11-18T02:44:45.026263Z",
     "shell.execute_reply.started": "2021-11-18T02:29:24.692993Z"
    },
    "papermill": {
     "duration": 0.099102,
     "end_time": "2021-11-18T02:44:45.026486",
     "exception": false,
     "start_time": "2021-11-18T02:44:44.927384",
     "status": "completed"
    },
    "tags": []
   },
   "outputs": [
    {
     "data": {
      "text/html": [
       "<div>\n",
       "<style scoped>\n",
       "    .dataframe tbody tr th:only-of-type {\n",
       "        vertical-align: middle;\n",
       "    }\n",
       "\n",
       "    .dataframe tbody tr th {\n",
       "        vertical-align: top;\n",
       "    }\n",
       "\n",
       "    .dataframe thead th {\n",
       "        text-align: right;\n",
       "    }\n",
       "</style>\n",
       "<table border=\"1\" class=\"dataframe\">\n",
       "  <thead>\n",
       "    <tr style=\"text-align: right;\">\n",
       "      <th></th>\n",
       "      <th>school</th>\n",
       "      <th>school_setting</th>\n",
       "      <th>school_type</th>\n",
       "      <th>teaching_method</th>\n",
       "      <th>n_student</th>\n",
       "      <th>lunch</th>\n",
       "      <th>pretest</th>\n",
       "      <th>posttest</th>\n",
       "    </tr>\n",
       "  </thead>\n",
       "  <tbody>\n",
       "    <tr>\n",
       "      <th>0</th>\n",
       "      <td>0</td>\n",
       "      <td>2</td>\n",
       "      <td>0</td>\n",
       "      <td>1</td>\n",
       "      <td>6</td>\n",
       "      <td>0</td>\n",
       "      <td>62.0</td>\n",
       "      <td>72.0</td>\n",
       "    </tr>\n",
       "    <tr>\n",
       "      <th>1</th>\n",
       "      <td>0</td>\n",
       "      <td>2</td>\n",
       "      <td>0</td>\n",
       "      <td>1</td>\n",
       "      <td>6</td>\n",
       "      <td>0</td>\n",
       "      <td>66.0</td>\n",
       "      <td>79.0</td>\n",
       "    </tr>\n",
       "    <tr>\n",
       "      <th>2</th>\n",
       "      <td>0</td>\n",
       "      <td>2</td>\n",
       "      <td>0</td>\n",
       "      <td>1</td>\n",
       "      <td>6</td>\n",
       "      <td>0</td>\n",
       "      <td>64.0</td>\n",
       "      <td>76.0</td>\n",
       "    </tr>\n",
       "    <tr>\n",
       "      <th>3</th>\n",
       "      <td>0</td>\n",
       "      <td>2</td>\n",
       "      <td>0</td>\n",
       "      <td>1</td>\n",
       "      <td>6</td>\n",
       "      <td>0</td>\n",
       "      <td>61.0</td>\n",
       "      <td>77.0</td>\n",
       "    </tr>\n",
       "    <tr>\n",
       "      <th>4</th>\n",
       "      <td>0</td>\n",
       "      <td>2</td>\n",
       "      <td>0</td>\n",
       "      <td>1</td>\n",
       "      <td>6</td>\n",
       "      <td>0</td>\n",
       "      <td>64.0</td>\n",
       "      <td>76.0</td>\n",
       "    </tr>\n",
       "    <tr>\n",
       "      <th>...</th>\n",
       "      <td>...</td>\n",
       "      <td>...</td>\n",
       "      <td>...</td>\n",
       "      <td>...</td>\n",
       "      <td>...</td>\n",
       "      <td>...</td>\n",
       "      <td>...</td>\n",
       "      <td>...</td>\n",
       "    </tr>\n",
       "    <tr>\n",
       "      <th>2128</th>\n",
       "      <td>22</td>\n",
       "      <td>2</td>\n",
       "      <td>1</td>\n",
       "      <td>1</td>\n",
       "      <td>16</td>\n",
       "      <td>0</td>\n",
       "      <td>39.0</td>\n",
       "      <td>55.0</td>\n",
       "    </tr>\n",
       "    <tr>\n",
       "      <th>2129</th>\n",
       "      <td>22</td>\n",
       "      <td>2</td>\n",
       "      <td>1</td>\n",
       "      <td>1</td>\n",
       "      <td>16</td>\n",
       "      <td>1</td>\n",
       "      <td>38.0</td>\n",
       "      <td>46.0</td>\n",
       "    </tr>\n",
       "    <tr>\n",
       "      <th>2130</th>\n",
       "      <td>22</td>\n",
       "      <td>2</td>\n",
       "      <td>1</td>\n",
       "      <td>1</td>\n",
       "      <td>16</td>\n",
       "      <td>1</td>\n",
       "      <td>45.0</td>\n",
       "      <td>51.0</td>\n",
       "    </tr>\n",
       "    <tr>\n",
       "      <th>2131</th>\n",
       "      <td>22</td>\n",
       "      <td>2</td>\n",
       "      <td>1</td>\n",
       "      <td>1</td>\n",
       "      <td>16</td>\n",
       "      <td>1</td>\n",
       "      <td>46.0</td>\n",
       "      <td>53.0</td>\n",
       "    </tr>\n",
       "    <tr>\n",
       "      <th>2132</th>\n",
       "      <td>22</td>\n",
       "      <td>2</td>\n",
       "      <td>1</td>\n",
       "      <td>1</td>\n",
       "      <td>16</td>\n",
       "      <td>1</td>\n",
       "      <td>41.0</td>\n",
       "      <td>48.0</td>\n",
       "    </tr>\n",
       "  </tbody>\n",
       "</table>\n",
       "<p>2133 rows × 8 columns</p>\n",
       "</div>"
      ],
      "text/plain": [
       "      school  school_setting  school_type  teaching_method  n_student  lunch  \\\n",
       "0          0               2            0                1          6      0   \n",
       "1          0               2            0                1          6      0   \n",
       "2          0               2            0                1          6      0   \n",
       "3          0               2            0                1          6      0   \n",
       "4          0               2            0                1          6      0   \n",
       "...      ...             ...          ...              ...        ...    ...   \n",
       "2128      22               2            1                1         16      0   \n",
       "2129      22               2            1                1         16      1   \n",
       "2130      22               2            1                1         16      1   \n",
       "2131      22               2            1                1         16      1   \n",
       "2132      22               2            1                1         16      1   \n",
       "\n",
       "      pretest  posttest  \n",
       "0        62.0      72.0  \n",
       "1        66.0      79.0  \n",
       "2        64.0      76.0  \n",
       "3        61.0      77.0  \n",
       "4        64.0      76.0  \n",
       "...       ...       ...  \n",
       "2128     39.0      55.0  \n",
       "2129     38.0      46.0  \n",
       "2130     45.0      51.0  \n",
       "2131     46.0      53.0  \n",
       "2132     41.0      48.0  \n",
       "\n",
       "[2133 rows x 8 columns]"
      ]
     },
     "execution_count": 46,
     "metadata": {},
     "output_type": "execute_result"
    }
   ],
   "source": [
    "data2"
   ]
  },
  {
   "cell_type": "code",
   "execution_count": 47,
   "id": "5535c3a9",
   "metadata": {
    "execution": {
     "iopub.execute_input": "2021-11-18T02:44:45.203472Z",
     "iopub.status.busy": "2021-11-18T02:44:45.202772Z",
     "iopub.status.idle": "2021-11-18T02:44:45.204552Z",
     "shell.execute_reply": "2021-11-18T02:44:45.205038Z",
     "shell.execute_reply.started": "2021-11-18T02:29:25.363269Z"
    },
    "papermill": {
     "duration": 0.098069,
     "end_time": "2021-11-18T02:44:45.205240",
     "exception": false,
     "start_time": "2021-11-18T02:44:45.107171",
     "status": "completed"
    },
    "tags": []
   },
   "outputs": [],
   "source": [
    "Y = data2[\"posttest\"]"
   ]
  },
  {
   "cell_type": "code",
   "execution_count": 48,
   "id": "2799b68c",
   "metadata": {
    "execution": {
     "iopub.execute_input": "2021-11-18T02:44:45.369920Z",
     "iopub.status.busy": "2021-11-18T02:44:45.369127Z",
     "iopub.status.idle": "2021-11-18T02:44:45.371989Z",
     "shell.execute_reply": "2021-11-18T02:44:45.371448Z",
     "shell.execute_reply.started": "2021-11-18T02:29:26.073355Z"
    },
    "papermill": {
     "duration": 0.087906,
     "end_time": "2021-11-18T02:44:45.372140",
     "exception": false,
     "start_time": "2021-11-18T02:44:45.284234",
     "status": "completed"
    },
    "tags": []
   },
   "outputs": [],
   "source": [
    "X = data2.drop(columns=[\"posttest\"])"
   ]
  },
  {
   "cell_type": "code",
   "execution_count": 49,
   "id": "adf75680",
   "metadata": {
    "execution": {
     "iopub.execute_input": "2021-11-18T02:44:45.538242Z",
     "iopub.status.busy": "2021-11-18T02:44:45.537535Z",
     "iopub.status.idle": "2021-11-18T02:45:21.552754Z",
     "shell.execute_reply": "2021-11-18T02:45:21.553305Z",
     "shell.execute_reply.started": "2021-11-18T02:29:27.177232Z"
    },
    "papermill": {
     "duration": 36.102991,
     "end_time": "2021-11-18T02:45:21.553529",
     "exception": false,
     "start_time": "2021-11-18T02:44:45.450538",
     "status": "completed"
    },
    "tags": []
   },
   "outputs": [
    {
     "data": {
      "text/plain": [
       "GridSearchCV(cv=5, estimator=SVR(),\n",
       "             param_grid={'C': [1, 10], 'kernel': ('linear', 'rbf')})"
      ]
     },
     "execution_count": 49,
     "metadata": {},
     "output_type": "execute_result"
    }
   ],
   "source": [
    "X_train, X_test, Y_train, Y_test = train_test_split(X, Y, test_size=0.25, random_state=39)\n",
    "parameters = {'kernel':('linear', 'rbf'), 'C':[1, 10]}\n",
    "svc = SVR(gamma=\"scale\")\n",
    "svc = GridSearchCV(svc, parameters, cv=5)\n",
    "svc.fit(X_train, Y_train)"
   ]
  },
  {
   "cell_type": "code",
   "execution_count": 50,
   "id": "2cc905f6",
   "metadata": {
    "execution": {
     "iopub.execute_input": "2021-11-18T02:45:21.724378Z",
     "iopub.status.busy": "2021-11-18T02:45:21.723620Z",
     "iopub.status.idle": "2021-11-18T02:45:21.736972Z",
     "shell.execute_reply": "2021-11-18T02:45:21.736396Z",
     "shell.execute_reply.started": "2021-11-18T02:30:02.861888Z"
    },
    "papermill": {
     "duration": 0.100755,
     "end_time": "2021-11-18T02:45:21.737132",
     "exception": false,
     "start_time": "2021-11-18T02:45:21.636377",
     "status": "completed"
    },
    "tags": []
   },
   "outputs": [
    {
     "data": {
      "text/plain": [
       "0.9400239556037949"
      ]
     },
     "execution_count": 50,
     "metadata": {},
     "output_type": "execute_result"
    }
   ],
   "source": [
    "svc.score(X_test, Y_test)"
   ]
  },
  {
   "cell_type": "code",
   "execution_count": 51,
   "id": "6f025236",
   "metadata": {
    "execution": {
     "iopub.execute_input": "2021-11-18T02:45:21.911503Z",
     "iopub.status.busy": "2021-11-18T02:45:21.910776Z",
     "iopub.status.idle": "2021-11-18T02:45:24.202477Z",
     "shell.execute_reply": "2021-11-18T02:45:24.203388Z",
     "shell.execute_reply.started": "2021-11-18T02:30:02.883971Z"
    },
    "papermill": {
     "duration": 2.386772,
     "end_time": "2021-11-18T02:45:24.203718",
     "exception": false,
     "start_time": "2021-11-18T02:45:21.816946",
     "status": "completed"
    },
    "tags": []
   },
   "outputs": [
    {
     "name": "stderr",
     "output_type": "stream",
     "text": [
      "C:\\Users\\MOHAMMED HASHID\\anaconda3\\lib\\site-packages\\sklearn\\neural_network\\_multilayer_perceptron.py:614: ConvergenceWarning: Stochastic Optimizer: Maximum iterations (200) reached and the optimization hasn't converged yet.\n",
      "  warnings.warn(\n"
     ]
    },
    {
     "data": {
      "text/plain": [
       "MLPRegressor()"
      ]
     },
     "execution_count": 51,
     "metadata": {},
     "output_type": "execute_result"
    }
   ],
   "source": [
    "mlp = MLPRegressor()\n",
    "mlp.fit(X_train, Y_train)"
   ]
  },
  {
   "cell_type": "code",
   "execution_count": 52,
   "id": "5f3df949",
   "metadata": {
    "execution": {
     "iopub.execute_input": "2021-11-18T02:45:24.419930Z",
     "iopub.status.busy": "2021-11-18T02:45:24.419145Z",
     "iopub.status.idle": "2021-11-18T02:45:24.428023Z",
     "shell.execute_reply": "2021-11-18T02:45:24.428945Z",
     "shell.execute_reply.started": "2021-11-18T02:30:05.312621Z"
    },
    "papermill": {
     "duration": 0.096957,
     "end_time": "2021-11-18T02:45:24.429263",
     "exception": false,
     "start_time": "2021-11-18T02:45:24.332306",
     "status": "completed"
    },
    "tags": []
   },
   "outputs": [
    {
     "data": {
      "text/plain": [
       "0.9280475454889318"
      ]
     },
     "execution_count": 52,
     "metadata": {},
     "output_type": "execute_result"
    }
   ],
   "source": [
    "mlp.score(X_test, Y_test)"
   ]
  },
  {
   "cell_type": "code",
   "execution_count": 53,
   "id": "556702df",
   "metadata": {
    "execution": {
     "iopub.execute_input": "2021-11-18T02:45:24.654505Z",
     "iopub.status.busy": "2021-11-18T02:45:24.648304Z",
     "iopub.status.idle": "2021-11-18T02:45:24.757996Z",
     "shell.execute_reply": "2021-11-18T02:45:24.758556Z",
     "shell.execute_reply.started": "2021-11-18T02:30:05.332335Z"
    },
    "papermill": {
     "duration": 0.197183,
     "end_time": "2021-11-18T02:45:24.758767",
     "exception": false,
     "start_time": "2021-11-18T02:45:24.561584",
     "status": "completed"
    },
    "scrolled": true,
    "tags": []
   },
   "outputs": [
    {
     "data": {
      "text/plain": [
       "RandomForestRegressor(n_estimators=25)"
      ]
     },
     "execution_count": 53,
     "metadata": {},
     "output_type": "execute_result"
    }
   ],
   "source": [
    "rfr = RandomForestRegressor(n_estimators=25)\n",
    "rfr.fit(X_train, Y_train)"
   ]
  },
  {
   "cell_type": "code",
   "execution_count": 54,
   "id": "6e52b0f2",
   "metadata": {
    "execution": {
     "iopub.execute_input": "2021-11-18T02:45:24.923870Z",
     "iopub.status.busy": "2021-11-18T02:45:24.923199Z",
     "iopub.status.idle": "2021-11-18T02:45:24.937528Z",
     "shell.execute_reply": "2021-11-18T02:45:24.938016Z",
     "shell.execute_reply.started": "2021-11-18T02:30:05.489062Z"
    },
    "papermill": {
     "duration": 0.098966,
     "end_time": "2021-11-18T02:45:24.938214",
     "exception": false,
     "start_time": "2021-11-18T02:45:24.839248",
     "status": "completed"
    },
    "tags": []
   },
   "outputs": [
    {
     "data": {
      "text/plain": [
       "0.9397243704145343"
      ]
     },
     "execution_count": 54,
     "metadata": {},
     "output_type": "execute_result"
    }
   ],
   "source": [
    "rfr.score(X_test, Y_test)"
   ]
  },
  {
   "cell_type": "code",
   "execution_count": 55,
   "id": "3fb9f2bb",
   "metadata": {
    "execution": {
     "iopub.execute_input": "2021-11-18T02:45:25.102970Z",
     "iopub.status.busy": "2021-11-18T02:45:25.102261Z",
     "iopub.status.idle": "2021-11-18T02:45:25.503963Z",
     "shell.execute_reply": "2021-11-18T02:45:25.503286Z",
     "shell.execute_reply.started": "2021-11-18T02:30:05.506407Z"
    },
    "papermill": {
     "duration": 0.485002,
     "end_time": "2021-11-18T02:45:25.504125",
     "exception": false,
     "start_time": "2021-11-18T02:45:25.019123",
     "status": "completed"
    },
    "tags": []
   },
   "outputs": [
    {
     "data": {
      "text/plain": [
       "LogisticRegression(C=10, multi_class='ovr', solver='liblinear')"
      ]
     },
     "execution_count": 55,
     "metadata": {},
     "output_type": "execute_result"
    }
   ],
   "source": [
    "lr = LogisticRegression(solver=\"liblinear\", multi_class=\"ovr\", penalty='l2', C=10)\n",
    "lr.fit(X_train, Y_train)"
   ]
  },
  {
   "cell_type": "code",
   "execution_count": 56,
   "id": "280e7ce0",
   "metadata": {
    "execution": {
     "iopub.execute_input": "2021-11-18T02:45:25.674017Z",
     "iopub.status.busy": "2021-11-18T02:45:25.672949Z",
     "iopub.status.idle": "2021-11-18T02:45:25.678667Z",
     "shell.execute_reply": "2021-11-18T02:45:25.679213Z",
     "shell.execute_reply.started": "2021-11-18T02:30:05.915439Z"
    },
    "papermill": {
     "duration": 0.094552,
     "end_time": "2021-11-18T02:45:25.679419",
     "exception": false,
     "start_time": "2021-11-18T02:45:25.584867",
     "status": "completed"
    },
    "tags": []
   },
   "outputs": [
    {
     "data": {
      "text/plain": [
       "0.06741573033707865"
      ]
     },
     "execution_count": 56,
     "metadata": {},
     "output_type": "execute_result"
    }
   ],
   "source": [
    "lr.score(X_test, Y_test)"
   ]
  },
  {
   "cell_type": "code",
   "execution_count": 57,
   "id": "887bec87",
   "metadata": {
    "execution": {
     "iopub.execute_input": "2021-11-18T02:45:25.871146Z",
     "iopub.status.busy": "2021-11-18T02:45:25.870078Z",
     "iopub.status.idle": "2021-11-18T02:45:25.940006Z",
     "shell.execute_reply": "2021-11-18T02:45:25.939417Z",
     "shell.execute_reply.started": "2021-11-18T02:30:05.926941Z"
    },
    "papermill": {
     "duration": 0.174246,
     "end_time": "2021-11-18T02:45:25.940177",
     "exception": false,
     "start_time": "2021-11-18T02:45:25.765931",
     "status": "completed"
    },
    "tags": []
   },
   "outputs": [
    {
     "data": {
      "text/plain": [
       "ExtraTreesRegressor(n_estimators=20)"
      ]
     },
     "execution_count": 57,
     "metadata": {},
     "output_type": "execute_result"
    }
   ],
   "source": [
    "xtr = ExtraTreesRegressor(n_estimators=20)\n",
    "xtr.fit(X_train, Y_train)"
   ]
  },
  {
   "cell_type": "code",
   "execution_count": 58,
   "id": "727756d7",
   "metadata": {
    "execution": {
     "iopub.execute_input": "2021-11-18T02:45:26.117917Z",
     "iopub.status.busy": "2021-11-18T02:45:26.113455Z",
     "iopub.status.idle": "2021-11-18T02:45:26.126629Z",
     "shell.execute_reply": "2021-11-18T02:45:26.127234Z",
     "shell.execute_reply.started": "2021-11-18T02:30:06.007212Z"
    },
    "papermill": {
     "duration": 0.102912,
     "end_time": "2021-11-18T02:45:26.127448",
     "exception": false,
     "start_time": "2021-11-18T02:45:26.024536",
     "status": "completed"
    },
    "tags": []
   },
   "outputs": [
    {
     "data": {
      "text/plain": [
       "0.9309465055167656"
      ]
     },
     "execution_count": 58,
     "metadata": {},
     "output_type": "execute_result"
    }
   ],
   "source": [
    "xtr.score(X_test, Y_test)"
   ]
  },
  {
   "cell_type": "code",
   "execution_count": 59,
   "id": "974ca110",
   "metadata": {
    "execution": {
     "iopub.execute_input": "2021-11-18T02:45:26.304808Z",
     "iopub.status.busy": "2021-11-18T02:45:26.299941Z",
     "iopub.status.idle": "2021-11-18T02:45:27.122463Z",
     "shell.execute_reply": "2021-11-18T02:45:27.121638Z",
     "shell.execute_reply.started": "2021-11-18T02:30:06.026958Z"
    },
    "papermill": {
     "duration": 0.908676,
     "end_time": "2021-11-18T02:45:27.122666",
     "exception": false,
     "start_time": "2021-11-18T02:45:26.213990",
     "status": "completed"
    },
    "tags": []
   },
   "outputs": [
    {
     "data": {
      "text/plain": [
       "AdaBoostRegressor(base_estimator=DecisionTreeRegressor(max_depth=6),\n",
       "                  n_estimators=300, random_state=754)"
      ]
     },
     "execution_count": 59,
     "metadata": {},
     "output_type": "execute_result"
    }
   ],
   "source": [
    "abr = AdaBoostRegressor(DecisionTreeRegressor(max_depth=6), n_estimators=300, random_state=754)\n",
    "abr.fit(X_train, Y_train)\n"
   ]
  },
  {
   "cell_type": "code",
   "execution_count": 60,
   "id": "abb7033a",
   "metadata": {
    "execution": {
     "iopub.execute_input": "2021-11-18T02:45:27.296906Z",
     "iopub.status.busy": "2021-11-18T02:45:27.296161Z",
     "iopub.status.idle": "2021-11-18T02:45:27.352904Z",
     "shell.execute_reply": "2021-11-18T02:45:27.353412Z",
     "shell.execute_reply.started": "2021-11-18T02:30:06.836738Z"
    },
    "papermill": {
     "duration": 0.145194,
     "end_time": "2021-11-18T02:45:27.353624",
     "exception": false,
     "start_time": "2021-11-18T02:45:27.208430",
     "status": "completed"
    },
    "tags": []
   },
   "outputs": [
    {
     "data": {
      "text/plain": [
       "0.9394916391278999"
      ]
     },
     "execution_count": 60,
     "metadata": {},
     "output_type": "execute_result"
    }
   ],
   "source": [
    "abr.score(X_test, Y_test)"
   ]
  },
  {
   "cell_type": "code",
   "execution_count": 61,
   "id": "f41685f2",
   "metadata": {
    "execution": {
     "iopub.execute_input": "2021-11-18T02:45:27.523807Z",
     "iopub.status.busy": "2021-11-18T02:45:27.523086Z",
     "iopub.status.idle": "2021-11-18T02:45:27.550241Z",
     "shell.execute_reply": "2021-11-18T02:45:27.550953Z",
     "shell.execute_reply.started": "2021-11-18T02:30:06.896176Z"
    },
    "papermill": {
     "duration": 0.113605,
     "end_time": "2021-11-18T02:45:27.551171",
     "exception": false,
     "start_time": "2021-11-18T02:45:27.437566",
     "status": "completed"
    },
    "scrolled": true,
    "tags": []
   },
   "outputs": [
    {
     "data": {
      "text/plain": [
       "GradientBoostingRegressor(n_estimators=15, random_state=1455)"
      ]
     },
     "execution_count": 61,
     "metadata": {},
     "output_type": "execute_result"
    }
   ],
   "source": [
    "gbr = GradientBoostingRegressor(random_state=1455, n_estimators=15)\n",
    "gbr.fit(X_train, Y_train)"
   ]
  },
  {
   "cell_type": "code",
   "execution_count": 62,
   "id": "65a97bbf",
   "metadata": {
    "execution": {
     "iopub.execute_input": "2021-11-18T02:45:27.723703Z",
     "iopub.status.busy": "2021-11-18T02:45:27.722961Z",
     "iopub.status.idle": "2021-11-18T02:45:27.730829Z",
     "shell.execute_reply": "2021-11-18T02:45:27.731357Z",
     "shell.execute_reply.started": "2021-11-18T02:30:06.924582Z"
    },
    "papermill": {
     "duration": 0.095306,
     "end_time": "2021-11-18T02:45:27.731547",
     "exception": false,
     "start_time": "2021-11-18T02:45:27.636241",
     "status": "completed"
    },
    "tags": []
   },
   "outputs": [
    {
     "data": {
      "text/plain": [
       "0.8935115329595809"
      ]
     },
     "execution_count": 62,
     "metadata": {},
     "output_type": "execute_result"
    }
   ],
   "source": [
    "gbr.score(X_test, Y_test)"
   ]
  },
  {
   "cell_type": "code",
   "execution_count": 63,
   "id": "d2b382d7",
   "metadata": {
    "execution": {
     "iopub.execute_input": "2021-11-18T02:45:27.904988Z",
     "iopub.status.busy": "2021-11-18T02:45:27.904278Z",
     "iopub.status.idle": "2021-11-18T02:45:27.920484Z",
     "shell.execute_reply": "2021-11-18T02:45:27.921028Z",
     "shell.execute_reply.started": "2021-11-18T02:30:06.934898Z"
    },
    "papermill": {
     "duration": 0.103961,
     "end_time": "2021-11-18T02:45:27.921233",
     "exception": false,
     "start_time": "2021-11-18T02:45:27.817272",
     "status": "completed"
    },
    "scrolled": true,
    "tags": []
   },
   "outputs": [
    {
     "data": {
      "text/plain": [
       "LinearRegression()"
      ]
     },
     "execution_count": 63,
     "metadata": {},
     "output_type": "execute_result"
    }
   ],
   "source": [
    "lreg = LinearRegression()\n",
    "lreg.fit(X_train, Y_train)\n"
   ]
  },
  {
   "cell_type": "code",
   "execution_count": 64,
   "id": "5e5ec318",
   "metadata": {
    "execution": {
     "iopub.execute_input": "2021-11-18T02:45:28.164157Z",
     "iopub.status.busy": "2021-11-18T02:45:28.163383Z",
     "iopub.status.idle": "2021-11-18T02:45:28.171074Z",
     "shell.execute_reply": "2021-11-18T02:45:28.171619Z",
     "shell.execute_reply.started": "2021-11-18T02:30:06.957307Z"
    },
    "papermill": {
     "duration": 0.16441,
     "end_time": "2021-11-18T02:45:28.171813",
     "exception": false,
     "start_time": "2021-11-18T02:45:28.007403",
     "status": "completed"
    },
    "tags": []
   },
   "outputs": [
    {
     "data": {
      "text/plain": [
       "0.9401014319648658"
      ]
     },
     "execution_count": 64,
     "metadata": {},
     "output_type": "execute_result"
    }
   ],
   "source": [
    "lreg.score(X_test, Y_test)"
   ]
  },
  {
   "cell_type": "markdown",
   "id": "d0f612c1",
   "metadata": {
    "papermill": {
     "duration": 0.083988,
     "end_time": "2021-11-18T02:45:28.339515",
     "exception": false,
     "start_time": "2021-11-18T02:45:28.255527",
     "status": "completed"
    },
    "tags": []
   },
   "source": [
    "# Conclusion\n",
    "Logistic Regression gives the best accuracy."
   ]
  },
  {
   "cell_type": "code",
   "execution_count": 65,
   "id": "ab97f817",
   "metadata": {
    "execution": {
     "iopub.execute_input": "2021-11-18T02:45:28.510442Z",
     "iopub.status.busy": "2021-11-18T02:45:28.509771Z",
     "iopub.status.idle": "2021-11-18T02:45:28.533746Z",
     "shell.execute_reply": "2021-11-18T02:45:28.534558Z",
     "shell.execute_reply.started": "2021-11-18T02:43:40.808657Z"
    },
    "papermill": {
     "duration": 0.111701,
     "end_time": "2021-11-18T02:45:28.534826",
     "exception": false,
     "start_time": "2021-11-18T02:45:28.423125",
     "status": "completed"
    },
    "tags": []
   },
   "outputs": [
    {
     "name": "stdout",
     "output_type": "stream",
     "text": [
      "MAE: 2.622832212470867\n",
      "MSE: 11.07773556292864\n",
      "RMSE: 3.328323235944586\n",
      "R^2: 0.9400239556037949\n"
     ]
    }
   ],
   "source": [
    "print('MAE:', metrics.mean_absolute_error(Y_test, lreg.predict(X_test)))\n",
    "print('MSE:', metrics.mean_squared_error(Y_test, lreg.predict(X_test)))\n",
    "print('RMSE:', np.sqrt(metrics.mean_squared_error(Y_test, lreg.predict(X_test))))\n",
    "print('R^2:', metrics.r2_score(Y_test, svc.predict(X_test)))"
   ]
  }
 ],
 "metadata": {
  "kernelspec": {
   "display_name": "Python 3",
   "language": "python",
   "name": "python3"
  },
  "language_info": {
   "codemirror_mode": {
    "name": "ipython",
    "version": 3
   },
   "file_extension": ".py",
   "mimetype": "text/x-python",
   "name": "python",
   "nbconvert_exporter": "python",
   "pygments_lexer": "ipython3",
   "version": "3.8.8"
  },
  "papermill": {
   "default_parameters": {},
   "duration": 70.019191,
   "end_time": "2021-11-18T02:45:31.914873",
   "environment_variables": {},
   "exception": null,
   "input_path": "__notebook__.ipynb",
   "output_path": "__notebook__.ipynb",
   "parameters": {},
   "start_time": "2021-11-18T02:44:21.895682",
   "version": "2.3.3"
  }
 },
 "nbformat": 4,
 "nbformat_minor": 5
}
